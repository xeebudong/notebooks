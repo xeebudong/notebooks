{
 "cells": [
  {
   "cell_type": "markdown",
   "metadata": {},
   "source": [
    "[参考](https://www.jb51.net/article/116810.htm)"
   ]
  },
  {
   "cell_type": "code",
   "execution_count": 19,
   "metadata": {
    "collapsed": false
   },
   "outputs": [
    {
     "data": {
      "text/plain": [
       "({'code': 0,\n",
       "  'data': {'area': '',\n",
       "   'area_id': '',\n",
       "   'city': '内网IP',\n",
       "   'city_id': 'local',\n",
       "   'country': 'XX',\n",
       "   'country_id': 'xx',\n",
       "   'county': '内网IP',\n",
       "   'county_id': 'local',\n",
       "   'ip': '192.168.1.101',\n",
       "   'isp': '内网IP',\n",
       "   'isp_id': 'local',\n",
       "   'region': 'XX',\n",
       "   'region_id': 'xx'}},\n",
       " 'XXXX内网IP内网IP')"
      ]
     },
     "execution_count": 19,
     "metadata": {},
     "output_type": "execute_result"
    }
   ],
   "source": [
    "import json\n",
    "import requests\n",
    "from bs4 import BeautifulSoup\n",
    "\n",
    "url = \"http://ip.taobao.com/service/getIpInfo.php?ip=\"\n",
    "\n",
    "def ip_location(ip):\n",
    "    \n",
    "    session = requests.Session()\n",
    "    \n",
    "    datadict=json.loads(session.get(url+ip).text)\n",
    "  \n",
    "    for oneinfo in datadict:\n",
    "        if \"code\" == oneinfo and datadict[oneinfo] == 0:\n",
    "            return datadict, datadict[\"data\"][\"country\"] + datadict[\"data\"][\"region\"] + datadict[\"data\"][\"city\"] + datadict[\"data\"][\"isp\"]\n",
    "\n",
    "        \n",
    "ip_location(\"192.168.1.101\")"
   ]
  },
  {
   "cell_type": "code",
   "execution_count": 21,
   "metadata": {
    "collapsed": false
   },
   "outputs": [
    {
     "data": {
      "text/plain": [
       "({'code': 0,\n",
       "  'data': {'area': '',\n",
       "   'area_id': '',\n",
       "   'city': 'XX',\n",
       "   'city_id': 'xx',\n",
       "   'country': '澳门',\n",
       "   'country_id': 'MO',\n",
       "   'county': 'XX',\n",
       "   'county_id': 'xx',\n",
       "   'ip': '60.246.233.219',\n",
       "   'isp': '澳门电讯',\n",
       "   'isp_id': '3000333',\n",
       "   'region': '澳门',\n",
       "   'region_id': '820000'}},\n",
       " '澳门澳门XX澳门电讯')"
      ]
     },
     "execution_count": 21,
     "metadata": {},
     "output_type": "execute_result"
    }
   ],
   "source": [
    "ip_location(\"60.246.233.219\")"
   ]
  },
  {
   "cell_type": "code",
   "execution_count": null,
   "metadata": {
    "collapsed": true
   },
   "outputs": [],
   "source": []
  }
 ],
 "metadata": {
  "anaconda-cloud": {},
  "kernelspec": {
   "display_name": "Python [default]",
   "language": "python",
   "name": "python3"
  },
  "language_info": {
   "codemirror_mode": {
    "name": "ipython",
    "version": 3
   },
   "file_extension": ".py",
   "mimetype": "text/x-python",
   "name": "python",
   "nbconvert_exporter": "python",
   "pygments_lexer": "ipython3",
   "version": "3.5.2"
  }
 },
 "nbformat": 4,
 "nbformat_minor": 1
}
