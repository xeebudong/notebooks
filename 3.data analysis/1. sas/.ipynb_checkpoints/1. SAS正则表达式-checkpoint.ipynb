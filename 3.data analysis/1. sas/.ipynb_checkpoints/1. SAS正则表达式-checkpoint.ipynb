{
 "cells": [
  {
   "cell_type": "markdown",
   "metadata": {},
   "source": [
    "# SAS 正则表达式与字符串处理\n",
    "\n",
    "> SAS 不适合做正则表达式，quit\n",
    "\n",
    "1. SAS要实现正则表达式的基本功能是：\n",
    "    - 匹配：匹配以某字符串开头的字符串，返回False\\True\n",
    "    - 查找：找出字符串中符合要求的子串，返回子串\n",
    "    \n",
    "2. 匹配函数\n",
    "- prxparse ：编译，Compiles a Perl regular expression (PRX) that can be used for pattern matching of a character value. \n",
    "- prxmatch ：匹配，Searches for a pattern match and returns the position at which the pattern is found. \n",
    "- prxchange：替换， Performs a pattern-matching replacement. \n",
    "- prxsubstr：\n",
    "- prxposn  ：\n",
    "\n",
    "等函数（或Call routine，function和Call routine的区别是后者可以通过参数返回值的形式产生新变量）来实现用正则表达式处理数据的要求。prxparse函数以正则式为输入生成一个SAS内部用于指代改正则式的id。prxmatch函数以正则式id和需要匹配的字符串为输入来进行正则匹配，如果匹配成功，则返回1，没有匹配返回0。如果匹配成功，可以使用prxposn函数来获取需要的反向匹配结果，输入为4个参数，第一个为正则式id，第二个是反向匹配的序号，第三个和第四个是输出参数，函数执行结束他们会被赋值为反向匹配在原匹配字符串中的位置和长度；这样，利用这两个返回的值并结合substr就可以得到反向匹配字符串。\n",
    "\n",
    "3. 参考文献\n",
    "    - [在SAS中实现正则表达式](http://blog.sina.com.cn/s/blog_520a7bdf0102vf10.html)\n",
    "    - "
   ]
  },
  {
   "cell_type": "markdown",
   "metadata": {},
   "source": [
    "参考文献\n",
    "1. [SAS正则表达式](http://bbs.pinggu.org/thread-3791746-1-1.html)"
   ]
  },
  {
   "cell_type": "markdown",
   "metadata": {
    "collapsed": true
   },
   "source": [
    "1. prxparse\n",
    "\n",
    "> 编译好正则表达式之后，作为参数传入prxmatch或者其他正则表达式函数中"
   ]
  },
  {
   "cell_type": "markdown",
   "metadata": {},
   "source": [
    "2. prxmatch\n",
    "\n",
    "> 匹配，并返回匹配的位置\n",
    "\n",
    "\n",
    "data _null_;\n",
    "      /* Use PRXPARSE to compile the Perl regular expression.    */\n",
    "   patternID = prxparse('/world/');\n",
    "      /* Use PRXMATCH to find the position of the pattern match. */\n",
    "   position=prxmatch(patternID, 'Hello world!');\n",
    "   put position=;\n",
    "run;\n"
   ]
  },
  {
   "cell_type": "code",
   "execution_count": null,
   "metadata": {
    "collapsed": true
   },
   "outputs": [],
   "source": []
  }
 ],
 "metadata": {
  "anaconda-cloud": {},
  "kernelspec": {
   "display_name": "Python [default]",
   "language": "python",
   "name": "python3"
  },
  "language_info": {
   "codemirror_mode": {
    "name": "ipython",
    "version": 3
   },
   "file_extension": ".py",
   "mimetype": "text/x-python",
   "name": "python",
   "nbconvert_exporter": "python",
   "pygments_lexer": "ipython3",
   "version": "3.5.2"
  }
 },
 "nbformat": 4,
 "nbformat_minor": 1
}
