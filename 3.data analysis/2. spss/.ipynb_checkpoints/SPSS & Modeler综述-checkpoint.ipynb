{
 "cells": [
  {
   "cell_type": "markdown",
   "metadata": {},
   "source": [
    "# IBM SPSS SPSS & Modeler综述\n",
    "\n",
    "\n",
    "\n",
    "## 参考\n",
    "1. [IBM SPSS 软件家族预测分析模型的商业应用初探，第 1 部分: 应用关联规则模型提高超市销量](https://www.ibm.com/developerworks/cn/data/library/techarticle/dm-1108zhangzy/index.html)\n",
    "2. [SPSS数据挖掘专题](https://www.ibm.com/analytics/cn/zh/technology/spss/study-material.html)\n",
    "3. [SPSS Modeler使用案例](http://bigdata.evget.com/?s=Modeler)\n",
    "\n",
    "\n",
    "## 案例\n",
    "1. [使用 IBM SPSS Modeler 进行社交网络分析](https://www.ibm.com/developerworks/cn/data/library/techarticle/dm-1206zhangxy/index.html)"
   ]
  },
  {
   "cell_type": "code",
   "execution_count": null,
   "metadata": {},
   "outputs": [],
   "source": []
  }
 ],
 "metadata": {
  "kernelspec": {
   "display_name": "Python 3",
   "language": "python",
   "name": "python3"
  },
  "language_info": {
   "codemirror_mode": {
    "name": "ipython",
    "version": 3
   },
   "file_extension": ".py",
   "mimetype": "text/x-python",
   "name": "python",
   "nbconvert_exporter": "python",
   "pygments_lexer": "ipython3",
   "version": "3.6.5"
  }
 },
 "nbformat": 4,
 "nbformat_minor": 2
}
