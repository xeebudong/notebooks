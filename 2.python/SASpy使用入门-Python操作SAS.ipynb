{
 "cells": [
  {
   "cell_type": "markdown",
   "metadata": {},
   "source": [
    "> SASpy模块打通了Python与SAS之间的连接。有了SASpy模块，我们就能够在Python中操控SAS。本文将首先介绍SASpy模块的一些基本方法，最后通过一个聚类分析的例子，来展示如何在Python中调用SAS的机器学习过程，以及对聚类结果的可视化。\n",
    "\n",
    "1. 需要Python3.X及以上，SAS9.4及以上，需要Java环境\n",
    "2. 论是本地SAS还是远程服务器上的SAS，都可以使用SASpy调用SAS进程\n",
    "3. 可以在Python和SAS之间传递数据（也就是Pandas数据框与SAS数据集可以相互转换）\n",
    "4. 某些Pandas方法可以直接在SAS数据集上使用（实际背后进行了转化）\n",
    "5. 可以调用SAS的各种模块，比如统计stat、质量控制qc、预测ets、机器学习(EM模块)等"
   ]
  },
  {
   "cell_type": "code",
   "execution_count": 69,
   "metadata": {},
   "outputs": [],
   "source": [
    "import saspy\n",
    "import pandas as pd\n",
    "import matplotlib.pyplot as plt\n",
    "\n",
    "%matplotlib inline"
   ]
  },
  {
   "cell_type": "code",
   "execution_count": 5,
   "metadata": {},
   "outputs": [
    {
     "name": "stdout",
     "output_type": "stream",
     "text": [
      "Using SAS Config named: winlocal\n",
      "SAS Connection established. Subprocess id is 9076\n",
      "\n"
     ]
    }
   ],
   "source": [
    "sas = saspy.SASsession()\n",
    "sas.teach_me_SAS(True)"
   ]
  },
  {
   "cell_type": "markdown",
   "metadata": {},
   "source": [
    "# 一.  SASpy基本操作\n",
    "\n",
    "> 有一些操作不能成功"
   ]
  },
  {
   "cell_type": "code",
   "execution_count": 6,
   "metadata": {
    "collapsed": true
   },
   "outputs": [
    {
     "data": {
      "text/plain": [
       "'\\x0c1                                                             SAS 系统                         2019年10月16日星期三 下午01时43分31秒\\n\\nNOTE: Copyright (c) 2002-2012 by SAS Institute Inc., Cary, NC, USA. \\nNOTE: SAS (r) Proprietary Software 9.4 (TS1M2 DBCS3170) \\n      Licensed to NATIONAL PINGTUNG UNI OF SCIENCE&TECH, Site 12001462.\\nNOTE: 该会话正在平台 X64_8PRO  上执行。\\n\\n\\n\\nNOTE: Updated analytical products:\\n      \\n      SAS/STAT 13.2\\n      SAS/ETS 13.2\\n      SAS/OR 13.2\\n      SAS/IML 13.2\\n      SAS/QC 13.2\\n\\nNOTE: Additional host information:\\n\\n X64_8PRO WIN 6.2.9200  Workstation\\n\\nNOTE: “SAS 初始化”所用时间（总处理时间）:\\n      实际时间          0.00 秒\\n      CPU 时间          0.00 秒\\n      \\n1          ;*\\';*\";*/;\\n2          options svgtitle=\\'svgtitle\\'; options validvarname=any pagesize=max nosyntaxcheck; ods graphics on;\\n3          \\n4          ;*\\';*\";*/;\\n5          %put E3969440A681A2408885998500000001;\\nE3969440A681A2408885998500000001\\n6          \\n\\x0c2                                                             SAS 系统                         2019年10月16日星期三 下午01时43分31秒\\n\\n7          ;*\\';*\";*/;\\n8          data _null_; length x $ 4096;\\n9                         x = resolve(\\'%sysfunc(pathname(work))\\');  put \\'WORKPATH=\\' x \\'WORKPATHEND=\\';\\n10                        x = resolve(\\'&SYSENCODING\\');              put \\'ENCODING=\\' x \\'ENCODINGEND=\\';\\n11                        x = resolve(\\'&SYSVLONG4\\');                put \\'SYSVLONG=\\' x \\'SYSVLONGEND=\\';\\n12                        x = resolve(\\'&SYSJOBID\\');                 put \\'SYSJOBID=\\' x \\'SYSJOBIDEND=\\';\\n13                        x = resolve(\\'&SYSSCP\\');                     put \\'SYSSCP=\\' x \\'SYSSCPEND=\\';\\n14                     run;\\n\\nWORKPATH=C:\\\\Users\\\\hp\\\\AppData\\\\Local\\\\Temp\\\\SAS Temporary Files\\\\_TD16216_DESKTOP-S66IPN3_\\\\Prc2 WORKPATHEND=\\nENCODING=euc-cn ENCODINGEND=\\nSYSVLONG=9.04.01M2P07232014 SYSVLONGEND=\\nSYSJOBID=16216 SYSJOBIDEND=\\nSYSSCP=WIN SYSSCPEND=\\nNOTE: “DATA 语句”所用时间（总处理时间）:\\n      实际时间          0.00 秒\\n      CPU 时间          0.01 秒\\n      \\n\\n15         \\n16         \\n17         ;*\\';*\";*/;\\n18         %put E3969440A681A2408885998500000002;\\nE3969440A681A2408885998500000002\\n19         \\n'"
      ]
     },
     "execution_count": 6,
     "metadata": {},
     "output_type": "execute_result"
    }
   ],
   "source": [
    "sas.saslog() # 显示SAS Log"
   ]
  },
  {
   "cell_type": "code",
   "execution_count": 7,
   "metadata": {},
   "outputs": [
    {
     "name": "stdout",
     "output_type": "stream",
     "text": [
      "libname my 'D:'    ;\n"
     ]
    }
   ],
   "source": [
    "sas.saslib(\"my 'D:\\'\") # 建立一个SAS逻辑库my"
   ]
  },
  {
   "cell_type": "code",
   "execution_count": 10,
   "metadata": {},
   "outputs": [
    {
     "data": {
      "text/plain": [
       "False"
      ]
     },
     "execution_count": 10,
     "metadata": {},
     "output_type": "execute_result"
    }
   ],
   "source": [
    "sas.exist(\"work.class\") # 判断work逻辑库下class数据集是否存在"
   ]
  },
  {
   "cell_type": "code",
   "execution_count": 11,
   "metadata": {},
   "outputs": [
    {
     "data": {
      "text/plain": [
       "True"
      ]
     },
     "execution_count": 11,
     "metadata": {},
     "output_type": "execute_result"
    }
   ],
   "source": [
    "sas.exist(\"sashelp.class\")"
   ]
  },
  {
   "cell_type": "code",
   "execution_count": 15,
   "metadata": {},
   "outputs": [
    {
     "data": {
      "text/plain": [
       "Libref  = sashelp\n",
       "Table   = cars\n",
       "Dsopts  = {}\n",
       "Results = Pandas"
      ]
     },
     "execution_count": 15,
     "metadata": {},
     "output_type": "execute_result"
    }
   ],
   "source": [
    "cars = sas.sasdata('cars', 'sashelp') # 获取sashelp逻辑库的cars数据集\n",
    "cars"
   ]
  },
  {
   "cell_type": "code",
   "execution_count": 20,
   "metadata": {},
   "outputs": [
    {
     "name": "stdout",
     "output_type": "stream",
     "text": [
      "too complicated to show the code, read the source :), sorry.\n"
     ]
    }
   ],
   "source": [
    "df_class = sas.sd2df(table='class', libref='sashelp') # 获取sashelp逻辑库class数据集(pandas数据框)\n",
    "df_class"
   ]
  },
  {
   "cell_type": "code",
   "execution_count": 21,
   "metadata": {},
   "outputs": [
    {
     "name": "stdout",
     "output_type": "stream",
     "text": [
      "too complicated to show the code, read the source :), sorry.\n"
     ]
    }
   ],
   "source": [
    "df_air = sas.sd2df('sashelp.air') # 获取sashelp逻辑库ari数据集(pandas数据框)\n",
    "df_air"
   ]
  },
  {
   "cell_type": "code",
   "execution_count": 25,
   "metadata": {},
   "outputs": [
    {
     "data": {
      "text/html": [
       "<div>\n",
       "<style scoped>\n",
       "    .dataframe tbody tr th:only-of-type {\n",
       "        vertical-align: middle;\n",
       "    }\n",
       "\n",
       "    .dataframe tbody tr th {\n",
       "        vertical-align: top;\n",
       "    }\n",
       "\n",
       "    .dataframe thead th {\n",
       "        text-align: right;\n",
       "    }\n",
       "</style>\n",
       "<table border=\"1\" class=\"dataframe\">\n",
       "  <thead>\n",
       "    <tr style=\"text-align: right;\">\n",
       "      <th></th>\n",
       "      <th>A</th>\n",
       "      <th>B</th>\n",
       "    </tr>\n",
       "  </thead>\n",
       "  <tbody>\n",
       "    <tr>\n",
       "      <th>0</th>\n",
       "      <td>1</td>\n",
       "      <td>3</td>\n",
       "    </tr>\n",
       "    <tr>\n",
       "      <th>1</th>\n",
       "      <td>2</td>\n",
       "      <td>4</td>\n",
       "    </tr>\n",
       "  </tbody>\n",
       "</table>\n",
       "</div>"
      ],
      "text/plain": [
       "   A  B\n",
       "0  1  3\n",
       "1  2  4"
      ]
     },
     "execution_count": 25,
     "metadata": {},
     "output_type": "execute_result"
    }
   ],
   "source": [
    "df = pd.DataFrame({\"A\":[1, 2], \"B\":[3, 4]})\n",
    "df"
   ]
  },
  {
   "cell_type": "code",
   "execution_count": null,
   "metadata": {},
   "outputs": [],
   "source": [
    "sas_df1 = sas.df2sd(df, table='sas_df', libref='work') # 将Python的df数据框转为sas的sas_df数据集"
   ]
  },
  {
   "cell_type": "code",
   "execution_count": 26,
   "metadata": {},
   "outputs": [
    {
     "name": "stdout",
     "output_type": "stream",
     "text": [
      "too complicated to show the code, read the source :), sorry.\n"
     ]
    }
   ],
   "source": [
    "sas_df2 = sas.df2sd(df) # 将Python的df数据框转为sas数据集"
   ]
  },
  {
   "cell_type": "code",
   "execution_count": 27,
   "metadata": {},
   "outputs": [
    {
     "name": "stdout",
     "output_type": "stream",
     "text": [
      "filename x \"D:\\export_csv.csv\";\n",
      "options nosource;\n",
      "proc export data=sashelp.class outfile=x dbms=csv replace;  run\n",
      ";options source;\n",
      "\n",
      "None\n"
     ]
    }
   ],
   "source": [
    "sas.write_csv(r\"D:\\export_csv.csv\", \"class\", \"sashelp\")"
   ]
  },
  {
   "cell_type": "markdown",
   "metadata": {},
   "source": [
    "# 二. 提交SAS代码\n",
    "\n",
    "> 可以在Python中直接提交“原汁原味”的SAS代码吗？当然可以，使用sas.submit()方法，将所有代码都放入submit()中，像'''SAS code'''这样，将SAS代码包裹起来。"
   ]
  },
  {
   "cell_type": "code",
   "execution_count": 31,
   "metadata": {},
   "outputs": [
    {
     "name": "stdout",
     "output_type": "stream",
     "text": [
      "\n"
     ]
    }
   ],
   "source": [
    "sas.set_results(\"Text\")\n",
    "sas.set_batch(True)\n",
    "results = sas.submit(\n",
    "    '''\n",
    "    options nocenter nodate;\n",
    "    option validvarname=any;\n",
    "    ods listing;\n",
    "    data class;\n",
    "       set sashelp.class;\n",
    "       where age<14;\n",
    "    run;\n",
    "    \n",
    "    proc sql;\n",
    "        select sex, mean(height) as 平均身高\n",
    "    from \n",
    "        class\n",
    "    group by\n",
    "        sex;\n",
    "    quit;\n",
    "    \n",
    "    proc means data=sashelp.cars; run;\n",
    "    '''\n",
    ")\n",
    "print(results['LST'])"
   ]
  },
  {
   "cell_type": "markdown",
   "metadata": {},
   "source": [
    "# 三. 一个好玩的功能 teach_me_SAS"
   ]
  },
  {
   "cell_type": "code",
   "execution_count": 34,
   "metadata": {
    "collapsed": true
   },
   "outputs": [
    {
     "ename": "AttributeError",
     "evalue": "'SASdata' object has no attribute 'columnsInfo'",
     "output_type": "error",
     "traceback": [
      "\u001b[1;31m---------------------------------------------------------------------------\u001b[0m",
      "\u001b[1;31mAttributeError\u001b[0m                            Traceback (most recent call last)",
      "\u001b[1;32m<ipython-input-34-d1b57e4434d9>\u001b[0m in \u001b[0;36m<module>\u001b[1;34m\u001b[0m\n\u001b[0;32m      1\u001b[0m \u001b[0msas\u001b[0m\u001b[1;33m.\u001b[0m\u001b[0mteach_me_SAS\u001b[0m\u001b[1;33m(\u001b[0m\u001b[1;32mTrue\u001b[0m\u001b[1;33m)\u001b[0m\u001b[1;33m\u001b[0m\u001b[1;33m\u001b[0m\u001b[0m\n\u001b[1;32m----> 2\u001b[1;33m \u001b[0mcars\u001b[0m\u001b[1;33m.\u001b[0m\u001b[0mcolumnsInfo\u001b[0m\u001b[1;33m(\u001b[0m\u001b[1;33m)\u001b[0m\u001b[1;33m\u001b[0m\u001b[1;33m\u001b[0m\u001b[0m\n\u001b[0m",
      "\u001b[1;31mAttributeError\u001b[0m: 'SASdata' object has no attribute 'columnsInfo'"
     ]
    }
   ],
   "source": [
    "sas.teach_me_SAS(True)\n",
    "cars.columnsInfo()"
   ]
  },
  {
   "cell_type": "markdown",
   "metadata": {},
   "source": [
    "# 四. 利用SAS模块进行机器学习\n",
    "\n",
    "> 以iris鸢尾花数据集聚类模型为例"
   ]
  },
  {
   "cell_type": "code",
   "execution_count": 38,
   "metadata": {},
   "outputs": [],
   "source": [
    "util = sas.sasutil()\n",
    "ml   = sas.sasml()\n",
    "stat = sas.sasstat()\n",
    "ets  = sas.sasets()\n",
    "qc   = sas.sasqc()"
   ]
  },
  {
   "cell_type": "code",
   "execution_count": 41,
   "metadata": {
    "collapsed": true
   },
   "outputs": [
    {
     "data": {
      "text/plain": [
       "['__class__',\n",
       " '__delattr__',\n",
       " '__dict__',\n",
       " '__dir__',\n",
       " '__doc__',\n",
       " '__eq__',\n",
       " '__format__',\n",
       " '__ge__',\n",
       " '__getattribute__',\n",
       " '__gt__',\n",
       " '__hash__',\n",
       " '__init__',\n",
       " '__init_subclass__',\n",
       " '__le__',\n",
       " '__lt__',\n",
       " '__module__',\n",
       " '__ne__',\n",
       " '__new__',\n",
       " '__reduce__',\n",
       " '__reduce_ex__',\n",
       " '__repr__',\n",
       " '__setattr__',\n",
       " '__sizeof__',\n",
       " '__str__',\n",
       " '__subclasshook__',\n",
       " '__weakref__',\n",
       " 'hp4score',\n",
       " 'hpbnet',\n",
       " 'hpcluster',\n",
       " 'hpforest',\n",
       " 'hpneural',\n",
       " 'logger',\n",
       " 'sas',\n",
       " 'sasproduct',\n",
       " 'treeboost']"
      ]
     },
     "execution_count": 41,
     "metadata": {},
     "output_type": "execute_result"
    }
   ],
   "source": [
    "dir(ml)"
   ]
  },
  {
   "cell_type": "code",
   "execution_count": 55,
   "metadata": {},
   "outputs": [],
   "source": [
    "from sklearn.datasets import load_iris\n",
    "data_x, data_y, cols = load_iris()['data'], load_iris()['target'], load_iris()['feature_names']\n",
    "\n",
    "\n",
    "iris = pd.DataFrame(data_x, columns=['SepalLength', 'SepalWidth', 'PetalLength', 'PetalWidth'])"
   ]
  },
  {
   "cell_type": "code",
   "execution_count": 56,
   "metadata": {},
   "outputs": [
    {
     "data": {
      "text/html": [
       "<div>\n",
       "<style scoped>\n",
       "    .dataframe tbody tr th:only-of-type {\n",
       "        vertical-align: middle;\n",
       "    }\n",
       "\n",
       "    .dataframe tbody tr th {\n",
       "        vertical-align: top;\n",
       "    }\n",
       "\n",
       "    .dataframe thead th {\n",
       "        text-align: right;\n",
       "    }\n",
       "</style>\n",
       "<table border=\"1\" class=\"dataframe\">\n",
       "  <thead>\n",
       "    <tr style=\"text-align: right;\">\n",
       "      <th></th>\n",
       "      <th>SepalLength</th>\n",
       "      <th>SepalWidth</th>\n",
       "      <th>PetalLength</th>\n",
       "      <th>PetalWidth</th>\n",
       "    </tr>\n",
       "  </thead>\n",
       "  <tbody>\n",
       "    <tr>\n",
       "      <th>0</th>\n",
       "      <td>5.1</td>\n",
       "      <td>3.5</td>\n",
       "      <td>1.4</td>\n",
       "      <td>0.2</td>\n",
       "    </tr>\n",
       "    <tr>\n",
       "      <th>1</th>\n",
       "      <td>4.9</td>\n",
       "      <td>3.0</td>\n",
       "      <td>1.4</td>\n",
       "      <td>0.2</td>\n",
       "    </tr>\n",
       "    <tr>\n",
       "      <th>2</th>\n",
       "      <td>4.7</td>\n",
       "      <td>3.2</td>\n",
       "      <td>1.3</td>\n",
       "      <td>0.2</td>\n",
       "    </tr>\n",
       "    <tr>\n",
       "      <th>3</th>\n",
       "      <td>4.6</td>\n",
       "      <td>3.1</td>\n",
       "      <td>1.5</td>\n",
       "      <td>0.2</td>\n",
       "    </tr>\n",
       "    <tr>\n",
       "      <th>4</th>\n",
       "      <td>5.0</td>\n",
       "      <td>3.6</td>\n",
       "      <td>1.4</td>\n",
       "      <td>0.2</td>\n",
       "    </tr>\n",
       "  </tbody>\n",
       "</table>\n",
       "</div>"
      ],
      "text/plain": [
       "   SepalLength  SepalWidth  PetalLength  PetalWidth\n",
       "0          5.1         3.5          1.4         0.2\n",
       "1          4.9         3.0          1.4         0.2\n",
       "2          4.7         3.2          1.3         0.2\n",
       "3          4.6         3.1          1.5         0.2\n",
       "4          5.0         3.6          1.4         0.2"
      ]
     },
     "execution_count": 56,
     "metadata": {},
     "output_type": "execute_result"
    }
   ],
   "source": [
    "iris.head()"
   ]
  },
  {
   "cell_type": "code",
   "execution_count": 59,
   "metadata": {},
   "outputs": [],
   "source": [
    "iris_sas = sas.df2sd(iris)"
   ]
  },
  {
   "cell_type": "code",
   "execution_count": 61,
   "metadata": {},
   "outputs": [
    {
     "name": "stdout",
     "output_type": "stream",
     "text": [
      "['CLUSTERSUM', 'DATAACCESSINFO', 'DESCSTATS', 'ITERSTATS', 'LOG', 'MODELINFO', 'NOBS', 'PERFORMANCEINFO', 'WITHINCLUSSTATS']\n"
     ]
    }
   ],
   "source": [
    "sas.set_batch(False)\n",
    "sas.set_results(\"Pandas\")\n",
    "\n",
    "sas.teach_me_SAS(False)\n",
    "inputs = 'SepalLength SepalWidth PetalLength PetalWidth'\n",
    "\n",
    "result = ml.hpcluster(data=iris_sas, input=inputs)\n",
    "print(dir(result))"
   ]
  },
  {
   "cell_type": "code",
   "execution_count": 62,
   "metadata": {},
   "outputs": [
    {
     "data": {
      "text/html": [
       "<div>\n",
       "<style scoped>\n",
       "    .dataframe tbody tr th:only-of-type {\n",
       "        vertical-align: middle;\n",
       "    }\n",
       "\n",
       "    .dataframe tbody tr th {\n",
       "        vertical-align: top;\n",
       "    }\n",
       "\n",
       "    .dataframe thead th {\n",
       "        text-align: right;\n",
       "    }\n",
       "</style>\n",
       "<table border=\"1\" class=\"dataframe\">\n",
       "  <thead>\n",
       "    <tr style=\"text-align: right;\">\n",
       "      <th></th>\n",
       "      <th>Parameter</th>\n",
       "      <th>Setting</th>\n",
       "    </tr>\n",
       "  </thead>\n",
       "  <tbody>\n",
       "    <tr>\n",
       "      <th>0</th>\n",
       "      <td>最大迭代</td>\n",
       "      <td>10</td>\n",
       "    </tr>\n",
       "    <tr>\n",
       "      <th>1</th>\n",
       "      <td>停止准则</td>\n",
       "      <td>聚类更改</td>\n",
       "    </tr>\n",
       "    <tr>\n",
       "      <th>2</th>\n",
       "      <td>停止准则值</td>\n",
       "      <td>0</td>\n",
       "    </tr>\n",
       "    <tr>\n",
       "      <th>3</th>\n",
       "      <td>聚类</td>\n",
       "      <td>6</td>\n",
       "    </tr>\n",
       "    <tr>\n",
       "      <th>4</th>\n",
       "      <td>种子初始化</td>\n",
       "      <td>12345</td>\n",
       "    </tr>\n",
       "    <tr>\n",
       "      <th>5</th>\n",
       "      <td>距离</td>\n",
       "      <td>欧氏</td>\n",
       "    </tr>\n",
       "  </tbody>\n",
       "</table>\n",
       "</div>"
      ],
      "text/plain": [
       "  Parameter Setting\n",
       "0      最大迭代      10\n",
       "1      停止准则    聚类更改\n",
       "2     停止准则值       0\n",
       "3        聚类       6\n",
       "4     种子初始化   12345\n",
       "5        距离      欧氏"
      ]
     },
     "execution_count": 62,
     "metadata": {},
     "output_type": "execute_result"
    }
   ],
   "source": [
    "result.MODELINFO"
   ]
  },
  {
   "cell_type": "code",
   "execution_count": 70,
   "metadata": {},
   "outputs": [
    {
     "data": {
      "image/png": "[encoded data removed]",
      "text/plain": [
       "<Figure size 432x288 with 1 Axes>"
      ]
     },
     "metadata": {
      "needs_background": "light"
     },
     "output_type": "display_data"
    }
   ],
   "source": [
    "wss = []\n",
    "for i in range(1, 9):\n",
    "    test = ml.hpcluster(data=iris_sas, input=inputs, procopts=('maxclusters=%d' %i))\n",
    "    wss.append(test.clustersum.SSE.sum())\n",
    "    \n",
    "    \n",
    "wsspd = pd.DataFrame(wss, index=range(1, len(wss)+1))\n",
    "plt.plot(wsspd)\n",
    "plt.xlabel(\"Number of Clusters\")\n",
    "plt.ylabel(\"Sum of WithinSS\")\n",
    "plt.title(\"Sum of WithinSS Over Number of Clusters\", fontsize=16)\n",
    "\n",
    "plt.legend([\"Sum(WithinSS)\"], loc='best')\n",
    "plt.show()"
   ]
  },
  {
   "cell_type": "markdown",
   "metadata": {},
   "source": [
    "## 聚类结果可视化"
   ]
  },
  {
   "cell_type": "code",
   "execution_count": null,
   "metadata": {},
   "outputs": [],
   "source": []
  },
  {
   "cell_type": "markdown",
   "metadata": {},
   "source": [
    "# 参考文献\n",
    "\n",
    "1. [SASpy模块，利用Python操作SAS](https://cloud.tencent.com/developer/news/231802)"
   ]
  }
 ],
 "metadata": {
  "kernelspec": {
   "display_name": "Python 3",
   "language": "python",
   "name": "python3"
  },
  "language_info": {
   "codemirror_mode": {
    "name": "ipython",
    "version": 3
   },
   "file_extension": ".py",
   "mimetype": "text/x-python",
   "name": "python",
   "nbconvert_exporter": "python",
   "pygments_lexer": "ipython3",
   "version": "3.7.3"
  }
 },
 "nbformat": 4,
 "nbformat_minor": 2
}
