{
 "cells": [
  {
   "cell_type": "code",
   "execution_count": null,
   "metadata": {},
   "outputs": [],
   "source": []
  },
  {
   "cell_type": "markdown",
   "metadata": {},
   "source": [
    "# data demo"
   ]
  },
  {
   "cell_type": "code",
   "execution_count": 1,
   "metadata": {
    "ExecuteTime": {
     "end_time": "2022-12-02T03:01:23.976742Z",
     "start_time": "2022-12-02T03:01:23.407487Z"
    }
   },
   "outputs": [
    {
     "data": {
      "text/plain": [
       "['DESCR', 'data', 'feature_names', 'filename', 'target']"
      ]
     },
     "execution_count": 1,
     "metadata": {},
     "output_type": "execute_result"
    }
   ],
   "source": [
    "from sklearn.datasets import load_iris, load_boston\n",
    "bost = load_boston()\n",
    "\n",
    "dir(bost)"
   ]
  },
  {
   "cell_type": "code",
   "execution_count": 2,
   "metadata": {
    "ExecuteTime": {
     "end_time": "2022-12-02T03:01:23.992228Z",
     "start_time": "2022-12-02T03:01:23.978713Z"
    }
   },
   "outputs": [
    {
     "data": {
      "text/plain": [
       "((506, 13), (506,))"
      ]
     },
     "execution_count": 2,
     "metadata": {},
     "output_type": "execute_result"
    }
   ],
   "source": [
    "bost.data.shape, bost.target.shape"
   ]
  },
  {
   "cell_type": "code",
   "execution_count": 3,
   "metadata": {
    "ExecuteTime": {
     "end_time": "2022-12-02T03:01:24.257978Z",
     "start_time": "2022-12-02T03:01:23.993891Z"
    }
   },
   "outputs": [
    {
     "data": {
      "text/html": [
       "<div>\n",
       "<style scoped>\n",
       "    .dataframe tbody tr th:only-of-type {\n",
       "        vertical-align: middle;\n",
       "    }\n",
       "\n",
       "    .dataframe tbody tr th {\n",
       "        vertical-align: top;\n",
       "    }\n",
       "\n",
       "    .dataframe thead th {\n",
       "        text-align: right;\n",
       "    }\n",
       "</style>\n",
       "<table border=\"1\" class=\"dataframe\">\n",
       "  <thead>\n",
       "    <tr style=\"text-align: right;\">\n",
       "      <th></th>\n",
       "      <th>CRIM</th>\n",
       "      <th>ZN</th>\n",
       "      <th>INDUS</th>\n",
       "      <th>CHAS</th>\n",
       "      <th>NOX</th>\n",
       "      <th>RM</th>\n",
       "      <th>AGE</th>\n",
       "      <th>DIS</th>\n",
       "      <th>RAD</th>\n",
       "      <th>TAX</th>\n",
       "      <th>PTRATIO</th>\n",
       "      <th>B</th>\n",
       "      <th>LSTAT</th>\n",
       "      <th>TARGET</th>\n",
       "    </tr>\n",
       "  </thead>\n",
       "  <tbody>\n",
       "    <tr>\n",
       "      <th>0</th>\n",
       "      <td>0.00632</td>\n",
       "      <td>18.0</td>\n",
       "      <td>2.31</td>\n",
       "      <td>0.0</td>\n",
       "      <td>0.538</td>\n",
       "      <td>6.575</td>\n",
       "      <td>65.2</td>\n",
       "      <td>4.0900</td>\n",
       "      <td>1.0</td>\n",
       "      <td>296.0</td>\n",
       "      <td>15.3</td>\n",
       "      <td>396.90</td>\n",
       "      <td>4.98</td>\n",
       "      <td>24.0</td>\n",
       "    </tr>\n",
       "    <tr>\n",
       "      <th>1</th>\n",
       "      <td>0.02731</td>\n",
       "      <td>0.0</td>\n",
       "      <td>7.07</td>\n",
       "      <td>0.0</td>\n",
       "      <td>0.469</td>\n",
       "      <td>6.421</td>\n",
       "      <td>78.9</td>\n",
       "      <td>4.9671</td>\n",
       "      <td>2.0</td>\n",
       "      <td>242.0</td>\n",
       "      <td>17.8</td>\n",
       "      <td>396.90</td>\n",
       "      <td>9.14</td>\n",
       "      <td>21.6</td>\n",
       "    </tr>\n",
       "    <tr>\n",
       "      <th>2</th>\n",
       "      <td>0.02729</td>\n",
       "      <td>0.0</td>\n",
       "      <td>7.07</td>\n",
       "      <td>0.0</td>\n",
       "      <td>0.469</td>\n",
       "      <td>7.185</td>\n",
       "      <td>61.1</td>\n",
       "      <td>4.9671</td>\n",
       "      <td>2.0</td>\n",
       "      <td>242.0</td>\n",
       "      <td>17.8</td>\n",
       "      <td>392.83</td>\n",
       "      <td>4.03</td>\n",
       "      <td>34.7</td>\n",
       "    </tr>\n",
       "    <tr>\n",
       "      <th>3</th>\n",
       "      <td>0.03237</td>\n",
       "      <td>0.0</td>\n",
       "      <td>2.18</td>\n",
       "      <td>0.0</td>\n",
       "      <td>0.458</td>\n",
       "      <td>6.998</td>\n",
       "      <td>45.8</td>\n",
       "      <td>6.0622</td>\n",
       "      <td>3.0</td>\n",
       "      <td>222.0</td>\n",
       "      <td>18.7</td>\n",
       "      <td>394.63</td>\n",
       "      <td>2.94</td>\n",
       "      <td>33.4</td>\n",
       "    </tr>\n",
       "    <tr>\n",
       "      <th>4</th>\n",
       "      <td>0.06905</td>\n",
       "      <td>0.0</td>\n",
       "      <td>2.18</td>\n",
       "      <td>0.0</td>\n",
       "      <td>0.458</td>\n",
       "      <td>7.147</td>\n",
       "      <td>54.2</td>\n",
       "      <td>6.0622</td>\n",
       "      <td>3.0</td>\n",
       "      <td>222.0</td>\n",
       "      <td>18.7</td>\n",
       "      <td>396.90</td>\n",
       "      <td>5.33</td>\n",
       "      <td>36.2</td>\n",
       "    </tr>\n",
       "  </tbody>\n",
       "</table>\n",
       "</div>"
      ],
      "text/plain": [
       "      CRIM    ZN  INDUS  CHAS    NOX     RM   AGE     DIS  RAD    TAX  \\\n",
       "0  0.00632  18.0   2.31   0.0  0.538  6.575  65.2  4.0900  1.0  296.0   \n",
       "1  0.02731   0.0   7.07   0.0  0.469  6.421  78.9  4.9671  2.0  242.0   \n",
       "2  0.02729   0.0   7.07   0.0  0.469  7.185  61.1  4.9671  2.0  242.0   \n",
       "3  0.03237   0.0   2.18   0.0  0.458  6.998  45.8  6.0622  3.0  222.0   \n",
       "4  0.06905   0.0   2.18   0.0  0.458  7.147  54.2  6.0622  3.0  222.0   \n",
       "\n",
       "   PTRATIO       B  LSTAT  TARGET  \n",
       "0     15.3  396.90   4.98    24.0  \n",
       "1     17.8  396.90   9.14    21.6  \n",
       "2     17.8  392.83   4.03    34.7  \n",
       "3     18.7  394.63   2.94    33.4  \n",
       "4     18.7  396.90   5.33    36.2  "
      ]
     },
     "execution_count": 3,
     "metadata": {},
     "output_type": "execute_result"
    }
   ],
   "source": [
    "import pandas as pd\n",
    "import numpy as np\n",
    "\n",
    "df = pd.DataFrame(np.column_stack((bost.data, bost.target.T)))\n",
    "cols = list(bost.feature_names)\n",
    "cols.append(\"TARGET\")\n",
    "df.columns = cols\n",
    "\n",
    "df.head()"
   ]
  },
  {
   "cell_type": "markdown",
   "metadata": {},
   "source": [
    "# 性能分析方法"
   ]
  },
  {
   "cell_type": "markdown",
   "metadata": {},
   "source": [
    "## %timeit"
   ]
  },
  {
   "cell_type": "code",
   "execution_count": null,
   "metadata": {},
   "outputs": [],
   "source": []
  },
  {
   "cell_type": "markdown",
   "metadata": {},
   "source": [
    "## profile"
   ]
  },
  {
   "cell_type": "code",
   "execution_count": 158,
   "metadata": {
    "ExecuteTime": {
     "end_time": "2022-12-02T07:45:35.233261Z",
     "start_time": "2022-12-02T07:45:35.212230Z"
    }
   },
   "outputs": [
    {
     "name": "stdout",
     "output_type": "stream",
     "text": [
      "6\n",
      "         40 function calls in 0.000 seconds\n",
      "\n",
      "   Ordered by: standard name\n",
      "\n",
      "   ncalls  tottime  percall  cumtime  percall filename:lineno(function)\n",
      "        3    0.000    0.000    0.000    0.000 :0(acquire)\n",
      "        3    0.000    0.000    0.000    0.000 :0(append)\n",
      "        1    0.000    0.000    0.000    0.000 :0(exec)\n",
      "        2    0.000    0.000    0.000    0.000 :0(getpid)\n",
      "        2    0.000    0.000    0.000    0.000 :0(isinstance)\n",
      "        1    0.000    0.000    0.000    0.000 :0(print)\n",
      "        1    0.000    0.000    0.000    0.000 :0(setprofile)\n",
      "        1    0.000    0.000    0.000    0.000 <ipython-input-158-8bd9f3cdd5eb>:3(profileTest)\n",
      "        1    0.000    0.000    0.000    0.000 <string>:1(<module>)\n",
      "        3    0.000    0.000    0.000    0.000 iostream.py:197(schedule)\n",
      "        2    0.000    0.000    0.000    0.000 iostream.py:309(_is_master_process)\n",
      "        2    0.000    0.000    0.000    0.000 iostream.py:322(_schedule_flush)\n",
      "        2    0.000    0.000    0.000    0.000 iostream.py:384(write)\n",
      "        3    0.000    0.000    0.000    0.000 iostream.py:93(_event_pipe)\n",
      "        1    0.000    0.000    0.000    0.000 profile:0(profileTest())\n",
      "        0    0.000             0.000          profile:0(profiler)\n",
      "        3    0.000    0.000    0.000    0.000 socket.py:342(send)\n",
      "        3    0.000    0.000    0.000    0.000 threading.py:1050(_wait_for_tstate_lock)\n",
      "        3    0.000    0.000    0.000    0.000 threading.py:1092(is_alive)\n",
      "        3    0.000    0.000    0.000    0.000 threading.py:507(is_set)\n",
      "\n",
      "\n"
     ]
    }
   ],
   "source": [
    "import profile \n",
    "\n",
    "def profileTest(): \n",
    "    Total =1; \n",
    "    for i in range(3): \n",
    "        Total=Total*(i+1) \n",
    "    \n",
    "    print(Total)\n",
    "    return Total \n",
    "\n",
    "if __name__ == \"__main__\": \n",
    "    profile.run(\"profileTest()\")  "
   ]
  },
  {
   "cell_type": "markdown",
   "metadata": {},
   "source": [
    "- ncalls：表示函数调用的次数；\n",
    "- tottime：表示指定函数的总的运行时间，除掉函数中调用子函数的运行时间；\n",
    "- percall：（第一个 percall）等于 tottime/ncalls；\n",
    "- cumtime：表示该函数及其所有子函数的调用运行的时间，即函数开始调用到返回的时间；\n",
    "- percall：（第二个 percall）即函数运行一次的平均时间，等于 cumtime/ncalls；\n",
    "- filename:lineno(function)：每个函数调用的具体信息；"
   ]
  },
  {
   "cell_type": "markdown",
   "metadata": {},
   "source": [
    "# 矢量化运算"
   ]
  },
  {
   "cell_type": "code",
   "execution_count": null,
   "metadata": {},
   "outputs": [],
   "source": []
  },
  {
   "cell_type": "markdown",
   "metadata": {},
   "source": [
    "# [joblib](https://blog.csdn.net/qtlyx/article/details/87301224)\n",
    "\n",
    "[使用 joblib 对 Pandas 数据进行并行处理](https://www.cnblogs.com/IvyWong/p/11889926.html)"
   ]
  },
  {
   "cell_type": "markdown",
   "metadata": {},
   "source": [
    "现在如果我们要进行groupby操作怎么办呢？我们可以使用多线程，使用一个叫做joblib的模块，来实现groupby的并行运算，然后在组合，有那么一点map-reduce的感觉"
   ]
  },
  {
   "cell_type": "code",
   "execution_count": 19,
   "metadata": {
    "ExecuteTime": {
     "end_time": "2022-12-02T03:06:47.321660Z",
     "start_time": "2022-12-02T03:06:47.312057Z"
    }
   },
   "outputs": [],
   "source": [
    "import time\n",
    "def grp_process(grp_sub):\n",
    "    time.sleep(1)\n",
    "    return grp_sub[\"TARGET\"].sum() "
   ]
  },
  {
   "cell_type": "code",
   "execution_count": 20,
   "metadata": {
    "ExecuteTime": {
     "end_time": "2022-12-02T03:06:49.538691Z",
     "start_time": "2022-12-02T03:06:49.526683Z"
    }
   },
   "outputs": [
    {
     "data": {
      "text/plain": [
       "26"
      ]
     },
     "execution_count": 20,
     "metadata": {},
     "output_type": "execute_result"
    }
   ],
   "source": [
    "len(df[\"ZN\"].unique())"
   ]
  },
  {
   "cell_type": "markdown",
   "metadata": {},
   "source": [
    "## 改造前"
   ]
  },
  {
   "cell_type": "code",
   "execution_count": 21,
   "metadata": {
    "ExecuteTime": {
     "end_time": "2022-12-02T03:07:16.279502Z",
     "start_time": "2022-12-02T03:06:49.981189Z"
    }
   },
   "outputs": [
    {
     "data": {
      "text/plain": [
       "ZN\n",
       "0.0      7616.1\n",
       "12.5      201.3\n",
       "17.5       33.0\n",
       "18.0       24.0\n",
       "20.0      744.8\n",
       "21.0       88.6\n",
       "22.0      253.2\n",
       "25.0      224.4\n",
       "28.0       68.5\n",
       "30.0      135.0\n",
       "33.0      126.1\n",
       "34.0       81.5\n",
       "35.0       69.2\n",
       "40.0      209.3\n",
       "45.0      200.6\n",
       "52.5       70.3\n",
       "55.0       77.1\n",
       "60.0      102.9\n",
       "70.0       76.3\n",
       "75.0       84.6\n",
       "80.0      411.0\n",
       "82.5       66.4\n",
       "85.0       47.8\n",
       "90.0      191.7\n",
       "95.0      166.3\n",
       "100.0      31.6\n",
       "dtype: float64"
      ]
     },
     "execution_count": 21,
     "metadata": {},
     "output_type": "execute_result"
    }
   ],
   "source": [
    "df.groupby(\"ZN\").apply(grp_process)"
   ]
  },
  {
   "cell_type": "markdown",
   "metadata": {},
   "source": [
    "## joblib改造后"
   ]
  },
  {
   "cell_type": "code",
   "execution_count": 27,
   "metadata": {
    "ExecuteTime": {
     "end_time": "2022-12-02T03:10:40.343660Z",
     "start_time": "2022-12-02T03:10:40.331201Z"
    }
   },
   "outputs": [],
   "source": [
    "from joblib import Parallel, delayed\n",
    "from multiprocessing import cpu_count"
   ]
  },
  {
   "cell_type": "code",
   "execution_count": 34,
   "metadata": {
    "ExecuteTime": {
     "end_time": "2022-12-02T03:13:45.197842Z",
     "start_time": "2022-12-02T03:13:45.193679Z"
    }
   },
   "outputs": [
    {
     "data": {
      "text/plain": [
       "8"
      ]
     },
     "execution_count": 34,
     "metadata": {},
     "output_type": "execute_result"
    }
   ],
   "source": [
    "cpu_count()"
   ]
  },
  {
   "cell_type": "code",
   "execution_count": 42,
   "metadata": {
    "ExecuteTime": {
     "end_time": "2022-12-02T03:15:21.123821Z",
     "start_time": "2022-12-02T03:15:17.053339Z"
    }
   },
   "outputs": [
    {
     "data": {
      "text/plain": [
       "array([7616.1,  201.3,   33. ,   24. ,  744.8,   88.6,  253.2,  224.4,\n",
       "         68.5,  135. ,  126.1,   81.5,   69.2,  209.3,  200.6,   70.3,\n",
       "         77.1,  102.9,   76.3,   84.6,  411. ,   66.4,   47.8,  191.7,\n",
       "        166.3,   31.6])"
      ]
     },
     "execution_count": 42,
     "metadata": {},
     "output_type": "execute_result"
    }
   ],
   "source": [
    "# 速度由24s 下降到 4秒\n",
    "def applyParallel(grp_sub, func):\n",
    "    retLst = Parallel(n_jobs=cpu_count())(delayed(func)(group) for name, group in grp_sub)\n",
    "    return retLst\n",
    "\n",
    "np.array(applyParallel(df.groupby(\"ZN\"), grp_process))"
   ]
  },
  {
   "cell_type": "markdown",
   "metadata": {},
   "source": [
    "- 使用了joblib中的Parallel函数，这个函数其实是进行并行调用的函数，其中的参数n_jobs是使用的计算机核的数目，后面其实是使用了groupby返回的迭代器中的group部分，也就是pandas的切片，然后依次送入func这个函数中\n",
    "- 当数据量很大的时候，这样的并行处理能够节约的时间超乎想象"
   ]
  },
  {
   "attachments": {
    "image.png": {
     "image/png": "[encoded data removed]"
    }
   },
   "cell_type": "markdown",
   "metadata": {},
   "source": [
    "# Swifter - 并行化\n",
    "\n",
    "- 相信大家平时对pandas使用比较多的一个功能就是apply功能，使用自带函数或者自己写个函数，可以直接对dataframe进行变换，非常香！\n",
    "\n",
    "- 但由于pandas的apply<b>只是将函数应用于dataframe的每一行，只调用当个处理器</b>，如果行数非常多，那么将非常慢。\n",
    "\n",
    "- 但如果我们利用多处理器并行化，将dataframe数据框分成多个部分，然后将每个部分都送到处理器，最后再将各个部分组合拼成回单个dataframe，这就快多了！\n",
    "\n",
    "Swifter是这样做的。\n",
    "\n",
    "1. 首先，检查apply的函数是否可以向量化，如果可以，就自动使用向量化的计算（最有效果）。\n",
    "\n",
    "2. 如果无法进行向量化，那就检查使用Dask进行并行处理或仅使用普通Pandas的apply（仅使用单个内核）哪个更合理。\n",
    "\n",
    "并行化并不是一定要用的，因为并行处理的开销会使小型数据集的处理速度变慢，所以这个也需要根据数据集的大小情况具体分析。\n",
    "\n",
    "![image.png](attachment:image.png)\n",
    "\n",
    "通过上图结果可以总结出：无论数据大小如何，使用向量化的结果几乎总是更好的，但如果无法做到向量化，那我们就退而求其次，通过并行让pandas速度最优（当数据集大小超过某个阈值的时候，红线和蓝线的交点）。\n",
    "\n",
    "太牛掰了，使用swifter可以直接为我们自动选择最佳的方式。"
   ]
  },
  {
   "cell_type": "code",
   "execution_count": 74,
   "metadata": {
    "ExecuteTime": {
     "end_time": "2022-12-02T03:33:06.891971Z",
     "start_time": "2022-12-02T03:32:57.494393Z"
    }
   },
   "outputs": [
    {
     "data": {
      "text/html": [
       "<div>\n",
       "<style scoped>\n",
       "    .dataframe tbody tr th:only-of-type {\n",
       "        vertical-align: middle;\n",
       "    }\n",
       "\n",
       "    .dataframe tbody tr th {\n",
       "        vertical-align: top;\n",
       "    }\n",
       "\n",
       "    .dataframe thead th {\n",
       "        text-align: right;\n",
       "    }\n",
       "</style>\n",
       "<table border=\"1\" class=\"dataframe\">\n",
       "  <thead>\n",
       "    <tr style=\"text-align: right;\">\n",
       "      <th></th>\n",
       "      <th>apply</th>\n",
       "      <th>apply_swifter</th>\n",
       "      <th>vec</th>\n",
       "    </tr>\n",
       "  </thead>\n",
       "  <tbody>\n",
       "    <tr>\n",
       "      <th>0</th>\n",
       "      <td>6100.0</td>\n",
       "      <td>4480.0</td>\n",
       "      <td>0.0</td>\n",
       "    </tr>\n",
       "    <tr>\n",
       "      <th>1</th>\n",
       "      <td>8312.0</td>\n",
       "      <td>1410.0</td>\n",
       "      <td>0.0</td>\n",
       "    </tr>\n",
       "    <tr>\n",
       "      <th>2</th>\n",
       "      <td>6608.0</td>\n",
       "      <td>997.0</td>\n",
       "      <td>0.0</td>\n",
       "    </tr>\n",
       "    <tr>\n",
       "      <th>3</th>\n",
       "      <td>5985.0</td>\n",
       "      <td>1994.0</td>\n",
       "      <td>0.0</td>\n",
       "    </tr>\n",
       "    <tr>\n",
       "      <th>4</th>\n",
       "      <td>7966.0</td>\n",
       "      <td>1031.0</td>\n",
       "      <td>998.0</td>\n",
       "    </tr>\n",
       "  </tbody>\n",
       "</table>\n",
       "</div>"
      ],
      "text/plain": [
       "    apply  apply_swifter    vec\n",
       "0  6100.0         4480.0    0.0\n",
       "1  8312.0         1410.0    0.0\n",
       "2  6608.0          997.0    0.0\n",
       "3  5985.0         1994.0    0.0\n",
       "4  7966.0         1031.0  998.0"
      ]
     },
     "execution_count": 74,
     "metadata": {},
     "output_type": "execute_result"
    }
   ],
   "source": [
    "import datetime\n",
    "import swifter\n",
    "\n",
    "\n",
    "df_time = pd.DataFrame()\n",
    "\n",
    "for i in range(1000):\n",
    "    # 直接处理\n",
    "    st = datetime.datetime.now().microsecond\n",
    "    df.apply(lambda x:x[\"ZN\"] + x[\"TARGET\"], axis=1)\n",
    "    ed = datetime.datetime.now().microsecond\n",
    "    s1 = (ed - st)\n",
    "    \n",
    "    # swifter处理\n",
    "    df.swifter.apply(lambda x:x[\"ZN\"] + x[\"TARGET\"], axis=1)\n",
    "    ed2 = datetime.datetime.now().microsecond\n",
    "    s2 = (ed2 - ed)\n",
    "    \n",
    "    # 矢量化运算\n",
    "    df[\"ZN\"]+df[\"TARGET\"]\n",
    "    ed3 = datetime.datetime.now().microsecond\n",
    "    s3 = (ed3 - ed2)\n",
    "    \n",
    "    df_time = df_time.append(pd.Series({\"apply\":s1, \"apply_swifter\":s2, \"vec\":s3}), ignore_index=True)\n",
    "    \n",
    "df_time.head()"
   ]
  },
  {
   "cell_type": "code",
   "execution_count": 76,
   "metadata": {
    "ExecuteTime": {
     "end_time": "2022-12-02T03:33:55.619602Z",
     "start_time": "2022-12-02T03:33:55.594921Z"
    }
   },
   "outputs": [
    {
     "data": {
      "text/html": [
       "<div>\n",
       "<style scoped>\n",
       "    .dataframe tbody tr th:only-of-type {\n",
       "        vertical-align: middle;\n",
       "    }\n",
       "\n",
       "    .dataframe tbody tr th {\n",
       "        vertical-align: top;\n",
       "    }\n",
       "\n",
       "    .dataframe thead th {\n",
       "        text-align: right;\n",
       "    }\n",
       "</style>\n",
       "<table border=\"1\" class=\"dataframe\">\n",
       "  <thead>\n",
       "    <tr style=\"text-align: right;\">\n",
       "      <th></th>\n",
       "      <th>apply</th>\n",
       "      <th>apply_swifter</th>\n",
       "      <th>vec</th>\n",
       "    </tr>\n",
       "  </thead>\n",
       "  <tbody>\n",
       "    <tr>\n",
       "      <th>count</th>\n",
       "      <td>1000.000000</td>\n",
       "      <td>1000.00000</td>\n",
       "      <td>1000.000000</td>\n",
       "    </tr>\n",
       "    <tr>\n",
       "      <th>mean</th>\n",
       "      <td>-1295.384000</td>\n",
       "      <td>463.28500</td>\n",
       "      <td>133.769000</td>\n",
       "    </tr>\n",
       "    <tr>\n",
       "      <th>std</th>\n",
       "      <td>89125.265281</td>\n",
       "      <td>31621.30781</td>\n",
       "      <td>342.860781</td>\n",
       "    </tr>\n",
       "    <tr>\n",
       "      <th>min</th>\n",
       "      <td>-993986.000000</td>\n",
       "      <td>-998350.00000</td>\n",
       "      <td>0.000000</td>\n",
       "    </tr>\n",
       "    <tr>\n",
       "      <th>25%</th>\n",
       "      <td>6117.000000</td>\n",
       "      <td>998.00000</td>\n",
       "      <td>0.000000</td>\n",
       "    </tr>\n",
       "    <tr>\n",
       "      <th>50%</th>\n",
       "      <td>6692.000000</td>\n",
       "      <td>1066.50000</td>\n",
       "      <td>0.000000</td>\n",
       "    </tr>\n",
       "    <tr>\n",
       "      <th>75%</th>\n",
       "      <td>7021.000000</td>\n",
       "      <td>1995.00000</td>\n",
       "      <td>0.000000</td>\n",
       "    </tr>\n",
       "    <tr>\n",
       "      <th>max</th>\n",
       "      <td>13051.000000</td>\n",
       "      <td>4480.00000</td>\n",
       "      <td>1366.000000</td>\n",
       "    </tr>\n",
       "  </tbody>\n",
       "</table>\n",
       "</div>"
      ],
      "text/plain": [
       "               apply  apply_swifter          vec\n",
       "count    1000.000000     1000.00000  1000.000000\n",
       "mean    -1295.384000      463.28500   133.769000\n",
       "std     89125.265281    31621.30781   342.860781\n",
       "min   -993986.000000  -998350.00000     0.000000\n",
       "25%      6117.000000      998.00000     0.000000\n",
       "50%      6692.000000     1066.50000     0.000000\n",
       "75%      7021.000000     1995.00000     0.000000\n",
       "max     13051.000000     4480.00000  1366.000000"
      ]
     },
     "execution_count": 76,
     "metadata": {},
     "output_type": "execute_result"
    }
   ],
   "source": [
    "# 显然，性能上，矢量化运算 > swifter > apply\n",
    "df_time.describe()"
   ]
  },
  {
   "cell_type": "code",
   "execution_count": null,
   "metadata": {},
   "outputs": [],
   "source": [
    "## demo2"
   ]
  },
  {
   "cell_type": "code",
   "execution_count": 78,
   "metadata": {
    "ExecuteTime": {
     "end_time": "2022-12-02T03:35:53.311524Z",
     "start_time": "2022-12-02T03:35:39.538930Z"
    }
   },
   "outputs": [
    {
     "name": "stderr",
     "output_type": "stream",
     "text": [
      "D:\\Anaconda3\\lib\\site-packages\\ipykernel_launcher.py:11: RuntimeWarning: divide by zero encountered in log\n",
      "  # This is added back by InteractiveShellApp.init_path()\n"
     ]
    },
    {
     "data": {
      "text/html": [
       "<div>\n",
       "<style scoped>\n",
       "    .dataframe tbody tr th:only-of-type {\n",
       "        vertical-align: middle;\n",
       "    }\n",
       "\n",
       "    .dataframe tbody tr th {\n",
       "        vertical-align: top;\n",
       "    }\n",
       "\n",
       "    .dataframe thead th {\n",
       "        text-align: right;\n",
       "    }\n",
       "</style>\n",
       "<table border=\"1\" class=\"dataframe\">\n",
       "  <thead>\n",
       "    <tr style=\"text-align: right;\">\n",
       "      <th></th>\n",
       "      <th>apply</th>\n",
       "      <th>apply_swifter</th>\n",
       "      <th>vec</th>\n",
       "    </tr>\n",
       "  </thead>\n",
       "  <tbody>\n",
       "    <tr>\n",
       "      <th>count</th>\n",
       "      <td>1000.000000</td>\n",
       "      <td>1000.000000</td>\n",
       "      <td>1000.000000</td>\n",
       "    </tr>\n",
       "    <tr>\n",
       "      <th>mean</th>\n",
       "      <td>2196.876000</td>\n",
       "      <td>-2891.023000</td>\n",
       "      <td>319.672000</td>\n",
       "    </tr>\n",
       "    <tr>\n",
       "      <th>std</th>\n",
       "      <td>89158.808557</td>\n",
       "      <td>70563.193112</td>\n",
       "      <td>468.983616</td>\n",
       "    </tr>\n",
       "    <tr>\n",
       "      <th>min</th>\n",
       "      <td>-991243.000000</td>\n",
       "      <td>-998007.000000</td>\n",
       "      <td>0.000000</td>\n",
       "    </tr>\n",
       "    <tr>\n",
       "      <th>25%</th>\n",
       "      <td>9732.500000</td>\n",
       "      <td>1995.000000</td>\n",
       "      <td>0.000000</td>\n",
       "    </tr>\n",
       "    <tr>\n",
       "      <th>50%</th>\n",
       "      <td>10072.500000</td>\n",
       "      <td>1996.000000</td>\n",
       "      <td>0.000000</td>\n",
       "    </tr>\n",
       "    <tr>\n",
       "      <th>75%</th>\n",
       "      <td>10620.000000</td>\n",
       "      <td>2077.250000</td>\n",
       "      <td>997.000000</td>\n",
       "    </tr>\n",
       "    <tr>\n",
       "      <th>max</th>\n",
       "      <td>16824.000000</td>\n",
       "      <td>5563.000000</td>\n",
       "      <td>1544.000000</td>\n",
       "    </tr>\n",
       "  </tbody>\n",
       "</table>\n",
       "</div>"
      ],
      "text/plain": [
       "               apply  apply_swifter          vec\n",
       "count    1000.000000    1000.000000  1000.000000\n",
       "mean     2196.876000   -2891.023000   319.672000\n",
       "std     89158.808557   70563.193112   468.983616\n",
       "min   -991243.000000 -998007.000000     0.000000\n",
       "25%      9732.500000    1995.000000     0.000000\n",
       "50%     10072.500000    1996.000000     0.000000\n",
       "75%     10620.000000    2077.250000   997.000000\n",
       "max     16824.000000    5563.000000  1544.000000"
      ]
     },
     "execution_count": 78,
     "metadata": {},
     "output_type": "execute_result"
    }
   ],
   "source": [
    "import datetime\n",
    "import swifter\n",
    "import numpy as np\n",
    "\n",
    "\n",
    "df_time = pd.DataFrame()\n",
    "\n",
    "for i in range(1000):\n",
    "    # 直接处理\n",
    "    st = datetime.datetime.now().microsecond\n",
    "    df.apply(lambda x:np.log(x[\"ZN\"]) + np.log(x[\"TARGET\"]), axis=1)\n",
    "    ed = datetime.datetime.now().microsecond\n",
    "    s1 = (ed - st)\n",
    "    \n",
    "    # swifter处理\n",
    "    df.swifter.apply(lambda x:np.log(x[\"ZN\"]) + np.log(x[\"TARGET\"]), axis=1)\n",
    "    ed2 = datetime.datetime.now().microsecond\n",
    "    s2 = (ed2 - ed)\n",
    "    \n",
    "    # 矢量化运算\n",
    "    np.log(df[\"ZN\"])+np.log(df[\"TARGET\"])\n",
    "    ed3 = datetime.datetime.now().microsecond\n",
    "    s3 = (ed3 - ed2)\n",
    "    \n",
    "    df_time = df_time.append(pd.Series({\"apply\":s1, \"apply_swifter\":s2, \"vec\":s3}), ignore_index=True)\n",
    "    \n",
    "df_time.describe()"
   ]
  },
  {
   "cell_type": "code",
   "execution_count": 92,
   "metadata": {
    "ExecuteTime": {
     "end_time": "2022-12-02T03:41:42.286355Z",
     "start_time": "2022-12-02T03:41:41.912861Z"
    }
   },
   "outputs": [
    {
     "data": {
      "text/plain": [
       "<seaborn.axisgrid.FacetGrid at 0x267314ad508>"
      ]
     },
     "execution_count": 92,
     "metadata": {},
     "output_type": "execute_result"
    },
    {
     "data": {
      "text/plain": [
       "<Figure size 648x432 with 0 Axes>"
      ]
     },
     "metadata": {},
     "output_type": "display_data"
    },
    {
     "data": {
      "image/png": "[encoded data removed]",
      "text/plain": [
       "<Figure size 462.375x360 with 1 Axes>"
      ]
     },
     "metadata": {
      "needs_background": "light"
     },
     "output_type": "display_data"
    }
   ],
   "source": [
    "# 从图形上看，性能差异，非常清晰，当然也就是几倍(约4倍)的效果差异\n",
    "import seaborn as sns\n",
    "import matplotlib.pyplot as plt\n",
    "%matplotlib inline\n",
    "\n",
    "plt.figure(figsize=(9, 6))\n",
    "sns.displot(data=df_time[(df_time[\"apply\"]>=0) & (df_time[\"apply_swifter\"]>=0)])"
   ]
  },
  {
   "cell_type": "markdown",
   "metadata": {},
   "source": [
    "# [Numba](https://bbs.huaweicloud.com/blogs/274594)"
   ]
  },
  {
   "cell_type": "code",
   "execution_count": 94,
   "metadata": {
    "ExecuteTime": {
     "end_time": "2022-12-02T06:36:39.625580Z",
     "start_time": "2022-12-02T06:36:39.604956Z"
    }
   },
   "outputs": [
    {
     "data": {
      "text/html": [
       "<div>\n",
       "<style scoped>\n",
       "    .dataframe tbody tr th:only-of-type {\n",
       "        vertical-align: middle;\n",
       "    }\n",
       "\n",
       "    .dataframe tbody tr th {\n",
       "        vertical-align: top;\n",
       "    }\n",
       "\n",
       "    .dataframe thead th {\n",
       "        text-align: right;\n",
       "    }\n",
       "</style>\n",
       "<table border=\"1\" class=\"dataframe\">\n",
       "  <thead>\n",
       "    <tr style=\"text-align: right;\">\n",
       "      <th></th>\n",
       "      <th>CRIM</th>\n",
       "      <th>ZN</th>\n",
       "      <th>INDUS</th>\n",
       "      <th>CHAS</th>\n",
       "      <th>NOX</th>\n",
       "      <th>RM</th>\n",
       "      <th>AGE</th>\n",
       "      <th>DIS</th>\n",
       "      <th>RAD</th>\n",
       "      <th>TAX</th>\n",
       "      <th>PTRATIO</th>\n",
       "      <th>B</th>\n",
       "      <th>LSTAT</th>\n",
       "      <th>TARGET</th>\n",
       "    </tr>\n",
       "  </thead>\n",
       "  <tbody>\n",
       "    <tr>\n",
       "      <th>0</th>\n",
       "      <td>0.00632</td>\n",
       "      <td>18.0</td>\n",
       "      <td>2.31</td>\n",
       "      <td>0.0</td>\n",
       "      <td>0.538</td>\n",
       "      <td>6.575</td>\n",
       "      <td>65.2</td>\n",
       "      <td>4.09</td>\n",
       "      <td>1.0</td>\n",
       "      <td>296.0</td>\n",
       "      <td>15.3</td>\n",
       "      <td>396.9</td>\n",
       "      <td>4.98</td>\n",
       "      <td>24.0</td>\n",
       "    </tr>\n",
       "  </tbody>\n",
       "</table>\n",
       "</div>"
      ],
      "text/plain": [
       "      CRIM    ZN  INDUS  CHAS    NOX     RM   AGE   DIS  RAD    TAX  PTRATIO  \\\n",
       "0  0.00632  18.0   2.31   0.0  0.538  6.575  65.2  4.09  1.0  296.0     15.3   \n",
       "\n",
       "       B  LSTAT  TARGET  \n",
       "0  396.9   4.98    24.0  "
      ]
     },
     "execution_count": 94,
     "metadata": {},
     "output_type": "execute_result"
    }
   ],
   "source": [
    "df.head(1)"
   ]
  },
  {
   "cell_type": "code",
   "execution_count": 105,
   "metadata": {
    "ExecuteTime": {
     "end_time": "2022-12-02T06:40:11.692801Z",
     "start_time": "2022-12-02T06:40:11.671212Z"
    }
   },
   "outputs": [
    {
     "data": {
      "text/plain": [
       "array([[ 5.43936814e+02, -1.39614820e+00],\n",
       "       [-1.39614820e+00,  1.34276357e-02]])"
      ]
     },
     "execution_count": 105,
     "metadata": {},
     "output_type": "execute_result"
    }
   ],
   "source": [
    "from numpy import cov, sin, tanh\n",
    "\n",
    "def dfunc(df):\n",
    "    cnt = df.shape[0]\n",
    "    c1  = df[\"ZN\"].sum()\n",
    "    c2  = cov(df[\"ZN\"], df[\"NOX\"])\n",
    "    c3  = sin(df[\"B\"])\n",
    "    c4  = tanh(df[\"LSTAT\"])\n",
    "    \n",
    "    return c2\n",
    "\n",
    "dfunc(df)"
   ]
  },
  {
   "cell_type": "code",
   "execution_count": 164,
   "metadata": {
    "ExecuteTime": {
     "end_time": "2022-12-02T07:57:17.118167Z",
     "start_time": "2022-12-02T07:57:16.970368Z"
    }
   },
   "outputs": [
    {
     "name": "stderr",
     "output_type": "stream",
     "text": [
      "<ipython-input-164-3d656ad20fdb>:4: NumbaWarning: \u001b[1m\n",
      "Compilation is falling back to object mode WITH looplifting enabled because Function \"dfunc_numba\" failed type inference due to: \u001b[1m\u001b[1mnon-precise type pyobject\u001b[0m\n",
      "\u001b[0m\u001b[1m[1] During: typing of argument at <ipython-input-164-3d656ad20fdb> (6)\u001b[0m\n",
      "\u001b[1m\n",
      "File \"<ipython-input-164-3d656ad20fdb>\", line 6:\u001b[0m\n",
      "\u001b[1mdef dfunc_numba(df):\n",
      "\u001b[1m    cnt = df.shape[0]\n",
      "\u001b[0m    \u001b[1m^\u001b[0m\u001b[0m\n",
      "\u001b[0m\n",
      "  @jit\n",
      "D:\\Anaconda3\\lib\\site-packages\\numba\\object_mode_passes.py:178: NumbaWarning: \u001b[1mFunction \"dfunc_numba\" was compiled in object mode without forceobj=True.\n",
      "\u001b[1m\n",
      "File \"<ipython-input-164-3d656ad20fdb>\", line 5:\u001b[0m\n",
      "\u001b[1m@jit\n",
      "\u001b[1mdef dfunc_numba(df):\n",
      "\u001b[0m\u001b[1m^\u001b[0m\u001b[0m\n",
      "\u001b[0m\n",
      "  state.func_ir.loc))\n",
      "D:\\Anaconda3\\lib\\site-packages\\numba\\object_mode_passes.py:188: NumbaDeprecationWarning: \u001b[1m\n",
      "Fall-back from the nopython compilation path to the object mode compilation path has been detected, this is deprecated behaviour.\n",
      "\n",
      "For more information visit http://numba.pydata.org/numba-doc/latest/reference/deprecation.html#deprecation-of-object-mode-fall-back-behaviour-when-using-jit\n",
      "\u001b[1m\n",
      "File \"<ipython-input-164-3d656ad20fdb>\", line 5:\u001b[0m\n",
      "\u001b[1m@jit\n",
      "\u001b[1mdef dfunc_numba(df):\n",
      "\u001b[0m\u001b[1m^\u001b[0m\u001b[0m\n",
      "\u001b[0m\n",
      "  state.func_ir.loc))\n"
     ]
    },
    {
     "data": {
      "text/plain": [
       "array([[ 5.43936814e+02, -1.39614820e+00],\n",
       "       [-1.39614820e+00,  1.34276357e-02]])"
      ]
     },
     "execution_count": 164,
     "metadata": {},
     "output_type": "execute_result"
    }
   ],
   "source": [
    "from numba import jit\n",
    "\n",
    "\n",
    "@jit\n",
    "def dfunc_numba(df):\n",
    "    cnt = df.shape[0]\n",
    "    c1  = df[\"ZN\"].sum()\n",
    "    c2  = cov(df[\"ZN\"], df[\"NOX\"])\n",
    "    c3  = sin(df[\"B\"])\n",
    "    c4  = tanh(df[\"LSTAT\"])\n",
    "    \n",
    "    return c2\n",
    "\n",
    "dfunc_numba(df)"
   ]
  },
  {
   "cell_type": "markdown",
   "metadata": {},
   "source": [
    "# Pypy"
   ]
  },
  {
   "cell_type": "code",
   "execution_count": null,
   "metadata": {},
   "outputs": [],
   "source": []
  },
  {
   "cell_type": "code",
   "execution_count": null,
   "metadata": {},
   "outputs": [],
   "source": []
  },
  {
   "cell_type": "markdown",
   "metadata": {},
   "source": [
    "# [Cpython](https://blog.csdn.net/qq_45503700/article/details/108331349)\n",
    "\n",
    "- cpython用作代码保护或者能够提升代码运行的效率\n",
    "- Cython 是用 python 实现的一种语言，可以用来写 python 扩展，用它写出来的库都可以通过 import 来载入，性能上比 python 的快。cython 里可以载入 python 扩展 ( 比如 import math)，也可以载入 c 的库的头文件 ( 比如 :cdef extern from \"math.h\")，另外也可以用它来写 python 代码。将关键部分重写成 C 扩展模块\n",
    "- Cython 代码与 python 不同，必须先编译，编译一般需要经过两个阶段，将 pyx 文件编译为 .c 文件，再将 .c 文件编译为 .so 文件。编译有多种方法：\n",
    "    - 通过命令行编译\n",
    "    - 使用 distutils 编译"
   ]
  },
  {
   "cell_type": "code",
   "execution_count": 160,
   "metadata": {
    "ExecuteTime": {
     "end_time": "2022-12-02T07:49:04.676565Z",
     "start_time": "2022-12-02T07:49:04.664395Z"
    }
   },
   "outputs": [
    {
     "ename": "SyntaxError",
     "evalue": "invalid syntax (<ipython-input-160-ee86e91f636e>, line 4)",
     "output_type": "error",
     "traceback": [
      "\u001b[1;36m  File \u001b[1;32m\"<ipython-input-160-ee86e91f636e>\"\u001b[1;36m, line \u001b[1;32m4\u001b[0m\n\u001b[1;33m    cdef int a =0\u001b[0m\n\u001b[1;37m           ^\u001b[0m\n\u001b[1;31mSyntaxError\u001b[0m\u001b[1;31m:\u001b[0m invalid syntax\n"
     ]
    }
   ],
   "source": [
    "from time import time \n",
    "\n",
    "def test(int n): \n",
    "    cdef int a =0 \n",
    "    cdef int i\n",
    "    \n",
    "    for i in xrange(n):\n",
    "        a+= i \n",
    "    return a \n",
    " \n",
    "t = time() \n",
    "test(10000000) \n",
    "print(\"total run time:\")\n",
    "print time()-t"
   ]
  },
  {
   "cell_type": "markdown",
   "metadata": {},
   "source": [
    "# [多进程](https://blog.csdn.net/qq_18254385/article/details/90401181)\n",
    "\n",
    "存在的问题\n",
    "\n",
    "- 入参的物理空间不能太大"
   ]
  },
  {
   "cell_type": "markdown",
   "metadata": {},
   "source": [
    "# 代码逻辑改造\n",
    "\n",
    "\n",
    "1. 原始方式， df.groupby().apply(func)\n",
    "    - 所有的功能都在func里面实现，func中的逻辑复杂\n",
    "\n",
    "2. 改造后\n",
    "    - 运用矢量运算，在df上生成一些中间标签，然后改造func中的逻辑"
   ]
  },
  {
   "cell_type": "markdown",
   "metadata": {
    "ExecuteTime": {
     "end_time": "2022-12-02T06:50:42.655736Z",
     "start_time": "2022-12-02T06:50:42.639299Z"
    }
   },
   "source": [
    "# Python性能优化Tips\n",
    "\n",
    "1. [python跑循环很慢_Python性能优化（一）20条建议](https://blog.csdn.net/weixin_39777497/article/details/111628706)\n",
    "2. [Python 优化提速的 8 个小技巧](https://cloud.tencent.com/developer/article/1853708)\n",
    "3. [Python性能优化的20条建议](https://zhuanlan.zhihu.com/p/41988980)\n",
    "\n",
    "\n",
    "  - 如果需要交换两个变量的值使用 a,b=b,a 而不是借助中间变量 t=a;a=b;b=t\n",
    "  - 在循环的时候使用 xrange 而不是 range；使用 xrange 可以节省大量的系统内存，因为 xrange() 在序列中每次调用只产生一个整数元素。而 range() 將直接返回完整的元素列表，用于循环时会有不必要的开销\n",
    "  - 使用局部变量，避免\"global\" 关键字。python 访问局部变量会比全局变量要快得多\n",
    "  - if done is not None 比语句 if done != None 更快\n",
    "  - 在耗时较多的循环中，可以把函数的调用改为内联的方式\n",
    "  - 使用级联比较 \"x < y < z\" 而不是 \"x < y and y < z\"\n",
    "  - while 1 要比 while True 更快（当然后者的可读性更好）\n",
    "  - build in 函数通常较快，add(a,b) 要优于 a+b"
   ]
  },
  {
   "cell_type": "markdown",
   "metadata": {},
   "source": [
    "## itertools"
   ]
  },
  {
   "cell_type": "code",
   "execution_count": null,
   "metadata": {},
   "outputs": [],
   "source": []
  },
  {
   "cell_type": "markdown",
   "metadata": {},
   "source": [
    "## 装饰器"
   ]
  },
  {
   "cell_type": "code",
   "execution_count": 119,
   "metadata": {
    "ExecuteTime": {
     "end_time": "2022-12-02T07:31:34.814010Z",
     "start_time": "2022-12-02T07:31:30.867735Z"
    }
   },
   "outputs": [
    {
     "data": {
      "text/plain": [
       "14930352"
      ]
     },
     "execution_count": 119,
     "metadata": {},
     "output_type": "execute_result"
    }
   ],
   "source": [
    "def fabonacci(n):\n",
    "    if n == 0 or n == 1:\n",
    "        return 1\n",
    "    return fabonacci(n-1) + fabonacci(n-2)\n",
    "\n",
    "fabonacci(35)"
   ]
  },
  {
   "cell_type": "markdown",
   "metadata": {},
   "source": [
    "在Python中，装饰器使用别的方法并且延展其功能。我们使用@symbol这样的符号来标识使用装饰器的方法。在上述代码中，使用了functools.Iru_cache装饰器，将运行结果存入内存\n",
    "\n",
    "还有其他形式的装饰器，你也可以写自己的装饰器，但这个装饰器快而且是内置的。有多快？自己试试吧"
   ]
  },
  {
   "cell_type": "code",
   "execution_count": 121,
   "metadata": {
    "ExecuteTime": {
     "end_time": "2022-12-02T07:31:40.168689Z",
     "start_time": "2022-12-02T07:31:40.158400Z"
    }
   },
   "outputs": [
    {
     "data": {
      "text/plain": [
       "14930352"
      ]
     },
     "execution_count": 121,
     "metadata": {},
     "output_type": "execute_result"
    }
   ],
   "source": [
    "import functools\n",
    "\n",
    "@functools.lru_cache(maxsize=128)\n",
    "def fabonacci2(n):\n",
    "    if n == 0 or n == 1:\n",
    "        return 1\n",
    "    return fabonacci2(n-1) + fabonacci2(n-2)\n",
    "\n",
    "fabonacci2(35)"
   ]
  },
  {
   "cell_type": "markdown",
   "metadata": {},
   "source": [
    "## 使用生成器operator和键keys进行排序\n",
    "\n",
    "生成器是内存优化的绝佳工具"
   ]
  },
  {
   "cell_type": "code",
   "execution_count": 136,
   "metadata": {
    "ExecuteTime": {
     "end_time": "2022-12-02T07:35:19.589242Z",
     "start_time": "2022-12-02T07:35:18.814232Z"
    }
   },
   "outputs": [],
   "source": [
    "for i in range(10000):\n",
    "    sorted(df[\"B\"])\n",
    "    pass"
   ]
  },
  {
   "cell_type": "code",
   "execution_count": 135,
   "metadata": {
    "ExecuteTime": {
     "end_time": "2022-12-02T07:35:17.551924Z",
     "start_time": "2022-12-02T07:35:16.428819Z"
    }
   },
   "outputs": [],
   "source": [
    "for i in range(10000):\n",
    "    sorted(df[\"B\"], key=lambda x:x)\n",
    "    pass"
   ]
  },
  {
   "cell_type": "code",
   "execution_count": 138,
   "metadata": {
    "ExecuteTime": {
     "end_time": "2022-12-02T07:35:42.215893Z",
     "start_time": "2022-12-02T07:35:42.195454Z"
    }
   },
   "outputs": [
    {
     "ename": "TypeError",
     "evalue": "'float' object is not subscriptable",
     "output_type": "error",
     "traceback": [
      "\u001b[1;31m---------------------------------------------------------------------------\u001b[0m",
      "\u001b[1;31mTypeError\u001b[0m                                 Traceback (most recent call last)",
      "\u001b[1;32m<ipython-input-138-af14e9b1b5e6>\u001b[0m in \u001b[0;36m<module>\u001b[1;34m\u001b[0m\n\u001b[0;32m      1\u001b[0m \u001b[1;32mimport\u001b[0m \u001b[0moperator\u001b[0m\u001b[1;33m\u001b[0m\u001b[1;33m\u001b[0m\u001b[0m\n\u001b[0;32m      2\u001b[0m \u001b[1;33m\u001b[0m\u001b[0m\n\u001b[1;32m----> 3\u001b[1;33m \u001b[0msorted\u001b[0m\u001b[1;33m(\u001b[0m\u001b[0mdf\u001b[0m\u001b[1;33m[\u001b[0m\u001b[1;34m\"B\"\u001b[0m\u001b[1;33m]\u001b[0m\u001b[1;33m,\u001b[0m \u001b[0mkey\u001b[0m\u001b[1;33m=\u001b[0m\u001b[0moperator\u001b[0m\u001b[1;33m.\u001b[0m\u001b[0mitemgetter\u001b[0m\u001b[1;33m(\u001b[0m\u001b[1;36m0\u001b[0m\u001b[1;33m)\u001b[0m\u001b[1;33m)\u001b[0m\u001b[1;33m\u001b[0m\u001b[1;33m\u001b[0m\u001b[0m\n\u001b[0m",
      "\u001b[1;31mTypeError\u001b[0m: 'float' object is not subscriptable"
     ]
    }
   ],
   "source": [
    "import operator\n",
    "\n",
    "sorted(df[\"B\"], key=operator.itemgetter(0))"
   ]
  },
  {
   "cell_type": "markdown",
   "metadata": {},
   "source": [
    "## 优化循环\n",
    "\n",
    "- 用map替代循环"
   ]
  },
  {
   "cell_type": "code",
   "execution_count": 148,
   "metadata": {
    "ExecuteTime": {
     "end_time": "2022-12-02T07:39:07.600044Z",
     "start_time": "2022-12-02T07:39:07.455109Z"
    }
   },
   "outputs": [],
   "source": [
    "x = 1\n",
    "for i in range(1000000):\n",
    "    x = x + i"
   ]
  },
  {
   "cell_type": "code",
   "execution_count": 151,
   "metadata": {
    "ExecuteTime": {
     "end_time": "2022-12-02T07:40:23.176859Z",
     "start_time": "2022-12-02T07:40:23.169177Z"
    }
   },
   "outputs": [
    {
     "data": {
      "text/plain": [
       "<map at 0x267340a9cc8>"
      ]
     },
     "execution_count": 151,
     "metadata": {},
     "output_type": "execute_result"
    }
   ],
   "source": [
    "x = 1\n",
    "\n",
    "def add(a, b):\n",
    "    return a+b\n",
    "\n",
    "map(add, range(1000000))"
   ]
  },
  {
   "cell_type": "markdown",
   "metadata": {},
   "source": [
    "## 避免全局变量\n",
    "\n",
    "定义在全局范围内的代码运行速度会比定义在函数中的慢不少。通过将脚本语句放入到函数中，通常可带来 15% - 30% 的速度提升"
   ]
  },
  {
   "cell_type": "markdown",
   "metadata": {},
   "source": [
    "## 避免数据复制\n",
    "\n",
    "1. 避免无意义的数据复制\n",
    "2. 交换时不适用中间变量 a, b = b, a\n",
    "3. 字符串拼接使用join而不是+"
   ]
  },
  {
   "cell_type": "code",
   "execution_count": null,
   "metadata": {},
   "outputs": [],
   "source": []
  }
 ],
 "metadata": {
  "kernelspec": {
   "display_name": "Python 3",
   "language": "python",
   "name": "python3"
  },
  "language_info": {
   "codemirror_mode": {
    "name": "ipython",
    "version": 3
   },
   "file_extension": ".py",
   "mimetype": "text/x-python",
   "name": "python",
   "nbconvert_exporter": "python",
   "pygments_lexer": "ipython3",
   "version": "3.7.6"
  },
  "toc": {
   "base_numbering": 1,
   "nav_menu": {},
   "number_sections": true,
   "sideBar": true,
   "skip_h1_title": false,
   "title_cell": "Table of Contents",
   "title_sidebar": "Contents",
   "toc_cell": false,
   "toc_position": {
    "height": "calc(100% - 180px)",
    "left": "10px",
    "top": "150px",
    "width": "176.991px"
   },
   "toc_section_display": true,
   "toc_window_display": true
  },
  "varInspector": {
   "cols": {
    "lenName": 16,
    "lenType": 16,
    "lenVar": 40
   },
   "kernels_config": {
    "python": {
     "delete_cmd_postfix": "",
     "delete_cmd_prefix": "del ",
     "library": "var_list.py",
     "varRefreshCmd": "print(var_dic_list())"
    },
    "r": {
     "delete_cmd_postfix": ") ",
     "delete_cmd_prefix": "rm(",
     "library": "var_list.r",
     "varRefreshCmd": "cat(var_dic_list()) "
    }
   },
   "types_to_exclude": [
    "module",
    "function",
    "builtin_function_or_method",
    "instance",
    "_Feature"
   ],
   "window_display": false
  }
 },
 "nbformat": 4,
 "nbformat_minor": 4
}
