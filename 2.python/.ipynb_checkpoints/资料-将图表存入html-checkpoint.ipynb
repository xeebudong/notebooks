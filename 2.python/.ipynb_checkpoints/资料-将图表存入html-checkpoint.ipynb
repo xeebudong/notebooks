{
 "cells": [
  {
   "cell_type": "code",
   "execution_count": 33,
   "metadata": {},
   "outputs": [
    {
     "data": {
      "text/plain": [
       "True"
      ]
     },
     "execution_count": 33,
     "metadata": {},
     "output_type": "execute_result"
    },
    {
     "data": {
      "image/png": "[encoded data removed]",
      "text/plain": [
       "<Figure size 432x288 with 4 Axes>"
      ]
     },
     "metadata": {
      "needs_background": "light"
     },
     "output_type": "display_data"
    }
   ],
   "source": [
    "# 控制显示格式，将某些模块显示到同一行\n",
    "\n",
    "# 导入所需模块\n",
    "import pandas as pd\n",
    "import matplotlib.pyplot as plt\n",
    "from io import BytesIO\n",
    "from lxml import etree\n",
    "import base64\n",
    "import urllib\n",
    "from sklearn import datasets\n",
    "import warnings\n",
    "warnings.filterwarnings(\"ignore\")\n",
    "\n",
    "\n",
    "# 获取数据集，用 urllib 库下载 iris 数据集作为示例\n",
    "iris = pd.DataFrame(datasets.load_iris().data)\n",
    "iris.columns = datasets.load_iris().feature_names\n",
    "\n",
    "# pandas 的 DataFrame 数据直接装换为 html 代码字符串\n",
    "iris_des = \"\"\"<div style=\"float:left\"><h1>Iris Describe Stastic</h1>\"\"\"+iris.describe().T.to_html()+\"</div>\"\n",
    "# iris_des = \"\"\"<h1>Iris Describe Stastic</h1>\"\"\"+iris.describe().T.to_html()\n",
    "\n",
    "# matplotlib 任意绘制一张图\n",
    "fig,axes = plt.subplots(1,4,sharey = True)\n",
    "for n in range(4):\n",
    "    axes[n].hist( iris.iloc[:,n],bins = 15,color = 'b',alpha = 0.5,rwidth= 0.8 )\n",
    "    axes[n].set_xlabel(iris.columns[n])\n",
    "plt.subplots_adjust(wspace = 0)\n",
    "# figure 保存为二进制文件\n",
    "buffer = BytesIO()\n",
    "plt.savefig(buffer)  \n",
    "plot_data = buffer.getvalue()\n",
    "\n",
    "# 图像数据转化为 HTML 格式\n",
    "imb = base64.b64encode(plot_data)  \n",
    "#imb = plot_data.encode('base64')   # 对于 Python 2.7可用 \n",
    "ims = imb.decode()\n",
    "imd = \"data:image/png;base64,\"+ims\n",
    "iris_im = \"\"\"<div style=\"float:left\"><h1>Iris Figure</h1>  \"\"\" + \"\"\"<img src=\"%s\"></div>\"\"\" % imd   \n",
    "\n",
    "root = \"<html><head></head><body><title>Iris Dataset</title>\"\n",
    "root = \"<html><head><style> table { border-collapse: collapse;} th { background-color: #4CAF50;  color: white;} </style></head><body><title>Iris Dataset</title>\" # 在style中设置格式\n",
    "\n",
    "root = root + iris_des + iris_im + \"</body></html>\" #将多个 html 格式的字符串连接起来\n",
    "\n",
    "# lxml 库的 etree 解析字符串为 html 代码，并写入文件\n",
    "html = etree.HTML(root)\n",
    "tree = etree.ElementTree(html)\n",
    "tree.write('iris.html')\n",
    "\n",
    "# 最后使用默认浏览器打开 html 文件\n",
    "import webbrowser\n",
    "webbrowser.open('iris.html',new = 1)"
   ]
  },
  {
   "cell_type": "code",
   "execution_count": 30,
   "metadata": {},
   "outputs": [
    {
     "name": "stdout",
     "output_type": "stream",
     "text": [
      "<html><head><style type=\"text/css\"></style></head><body><title>Iris Dataset</title><div style=\"float:left\"><h1>Iris Describe Stastic</h1><table border=\"1\" class=\"dataframe\">\n",
      "  <thead>\n",
      "    <tr style=\"text-align: right;\">\n",
      "      <th></th>\n",
      "      <th>count</th>\n",
      "      <th>mean</th>\n",
      "      <th>std</th>\n",
      "      <th>min</th>\n",
      "      <th>25%</th>\n",
      "      <th>50%</th>\n",
      "      <th>75%</th>\n",
      "      <th>max</th>\n",
      "    </tr>\n",
      "  </thead>\n",
      "  <tbody>\n",
      "    <tr>\n",
      "      <th>sepal length (cm)</th>\n",
      "      <td>150.0</td>\n",
      "      <td>5.843333</td>\n",
      "      <td>0.828066</td>\n",
      "      <td>4.3</td>\n",
      "      <td>5.1</td>\n",
      "      <td>5.80</td>\n",
      "      <td>6.4</td>\n",
      "      <td>7.9</td>\n",
      "    </tr>\n",
      "    <tr>\n",
      "      <th>sepal width (cm)</th>\n",
      "      <td>150.0</td>\n",
      "      <td>3.057333</td>\n",
      "      <td>0.435866</td>\n",
      "      <td>2.0</td>\n",
      "      <td>2.8</td>\n",
      "      <td>3.00</td>\n",
      "      <td>3.3</td>\n",
      "      <td>4.4</td>\n",
      "    </tr>\n",
      "    <tr>\n",
      "      <th>petal length (cm)</th>\n",
      "      <td>150.0</td>\n",
      "      <td>3.758000</td>\n",
      "      <td>1.765298</td>\n",
      "      <td>1.0</td>\n",
      "      <td>1.6</td>\n",
      "      <td>4.35</td>\n",
      "      <td>5.1</td>\n",
      "      <td>6.9</td>\n",
      "    </tr>\n",
      "    <tr>\n",
      "      <th>petal width (cm)</th>\n",
      "      <td>150.0</td>\n",
      "      <td>1.199333</td>\n",
      "      <td>0.762238</td>\n",
      "      <td>0.1</td>\n",
      "      <td>0.3</td>\n",
      "      <td>1.30</td>\n",
      "      <td>1.8</td>\n",
      "      <td>2.5</td>\n",
      "    </tr>\n",
      "  </tbody>\n",
      "</table></div><div style=\"float:left\"><h1>Iris Figure</h1>  <img src=\"data:image/png;base64,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\"></div></body></html>\n"
     ]
    }
   ],
   "source": [
    "print(root)"
   ]
  },
  {
   "cell_type": "code",
   "execution_count": null,
   "metadata": {},
   "outputs": [],
   "source": []
  }
 ],
 "metadata": {
  "kernelspec": {
   "display_name": "Python 3",
   "language": "python",
   "name": "python3"
  },
  "language_info": {
   "codemirror_mode": {
    "name": "ipython",
    "version": 3
   },
   "file_extension": ".py",
   "mimetype": "text/x-python",
   "name": "python",
   "nbconvert_exporter": "python",
   "pygments_lexer": "ipython3",
   "version": "3.7.4"
  }
 },
 "nbformat": 4,
 "nbformat_minor": 2
}
