{
 "cells": [
  {
   "cell_type": "markdown",
   "metadata": {},
   "source": [
    "# 场景\n",
    "\n",
    "1. 加入用一个多进程来更新一个数组的值\n",
    "2. 对于同一位，存在A读取了数据值，然后B写入后，A等待3秒，对同一个地址进行写入，造成数据错误\n",
    "3. 所以，需要一个锁，来对列表具体的每一个位置进行锁定，即一旦有进程读了该位置，那么其他进程只能等待\n",
    "4. 多进程返回值"
   ]
  },
  {
   "cell_type": "markdown",
   "metadata": {},
   "source": [
    "## 初始代码\n",
    "\n",
    "1. 为什么列表的数据值没有改变"
   ]
  },
  {
   "cell_type": "code",
   "execution_count": 14,
   "metadata": {
    "ExecuteTime": {
     "end_time": "2021-09-18T08:15:37.756504Z",
     "start_time": "2021-09-18T08:15:37.745576Z"
    }
   },
   "outputs": [
    {
     "name": "stdout",
     "output_type": "stream",
     "text": [
      "Overwriting lock_demo.py\n"
     ]
    }
   ],
   "source": [
    "%%writefile lock_demo.py\n",
    "\n",
    "import time\n",
    "import os\n",
    "from multiprocessing import Pool, cpu_count\n",
    "\n",
    "def modify(lst, pos):\n",
    "    print(\"I am here %d\" %os.getpid())\n",
    "    try:\n",
    "        v = lst[pos]\n",
    "        time.sleep(1)\n",
    "        lst[pos] = v+1\n",
    "    except Exception as ex:\n",
    "        print(ex)\n",
    "        traceback.print_exc()\n",
    "    print(\"I am Finished %d\" %os.getpid())\n",
    "    \n",
    "def process_modify(lst, pos_lst):\n",
    "    print(\"Start %d\" %os.getpid())\n",
    "    try:\n",
    "        for pos in pos_lst:\n",
    "            modify(lst, pos)\n",
    "    except Exception as ex:\n",
    "        print(ex)\n",
    "        traceback.print_exc()\n",
    "    \n",
    "    \n",
    "if __name__ == \"__main__\":\n",
    "    __spec__ = \"ModuleSpec(name='builtins', loader=<class '_frozen_importlib.BuiltinImporter'>)\"\n",
    "    pool = Pool(processes=cpu_count())\n",
    "    \n",
    "    lst = [0, 0, 0, 0, 0, 0, 0, 0, 0, 0]\n",
    "    try:\n",
    "        for i in range(6):\n",
    "            print(i)\n",
    "            pos_lst = [0, 1, 2, 3, 4, 5, 6, 7, 8, 9]\n",
    "            pool.apply_async(process_modify, args=(lst, pos_lst))\n",
    "    except Exception as ex:\n",
    "        print(ex)\n",
    "        traceback.print_exc()\n",
    "        \n",
    "    pool.close()\n",
    "    pool.join()\n",
    "    \n",
    "    print(\"Multiple Process is Finished!!!\")\n",
    "    \n",
    "    print(lst)"
   ]
  },
  {
   "cell_type": "markdown",
   "metadata": {},
   "source": [
    "## 未加锁\n",
    "\n",
    "1. [不同进程间，要想共享数据，必须使用Manager模块来实现](https://zhuanlan.zhihu.com/p/166091204)\n",
    "2. [多进程共享，自定义数据类型](https://www.cnblogs.com/yangfantuan/p/12535436.html)\n",
    "\n",
    "\n",
    "已经实现了list的更改，但是预期输出不对，也就是资源没有锁定，倒是重复读入数据和写入"
   ]
  },
  {
   "cell_type": "code",
   "execution_count": 2,
   "metadata": {
    "ExecuteTime": {
     "end_time": "2021-09-18T08:00:46.259184Z",
     "start_time": "2021-09-18T08:00:46.246220Z"
    }
   },
   "outputs": [],
   "source": [
    "# %run lock_demo.py"
   ]
  },
  {
   "cell_type": "code",
   "execution_count": 25,
   "metadata": {
    "ExecuteTime": {
     "end_time": "2021-09-18T08:26:39.392531Z",
     "start_time": "2021-09-18T08:26:39.371580Z"
    }
   },
   "outputs": [
    {
     "name": "stdout",
     "output_type": "stream",
     "text": [
      "Overwriting lock_demo.py\n"
     ]
    }
   ],
   "source": [
    "%%writefile lock_demo.py\n",
    "\n",
    "import time\n",
    "import os\n",
    "import random\n",
    "from multiprocessing import Pool, cpu_count, Manager\n",
    "\n",
    "class Myclass:\n",
    "    def __init__(self, data=None):\n",
    "        self.data = data\n",
    "        \n",
    "    def get(self):\n",
    "        return self.data\n",
    "    \n",
    "    def set(self, data):\n",
    "        self.data = data\n",
    "\n",
    "def modify(lst, pos):\n",
    "    print(\"I am here %d\" %os.getpid())\n",
    "    try:\n",
    "        v = lst[pos]\n",
    "        time.sleep(1)\n",
    "        lst[pos] = v+1\n",
    "    except Exception as ex:\n",
    "        print(ex)\n",
    "        traceback.print_exc()\n",
    "    print(\"I am Finished %d\" %os.getpid())\n",
    "    \n",
    "def process_modify(lst, pos_lst):\n",
    "    print(\"Start %d\" %os.getpid())\n",
    "    try:\n",
    "        for pos in pos_lst:\n",
    "            modify(lst, pos)\n",
    "    except Exception as ex:\n",
    "        print(ex)\n",
    "        traceback.print_exc()\n",
    "    \n",
    "    \n",
    "if __name__ == \"__main__\":\n",
    "    __spec__ = \"ModuleSpec(name='builtins', loader=<class '_frozen_importlib.BuiltinImporter'>)\"\n",
    "    pool = Pool(processes=cpu_count())\n",
    "    \n",
    "    lst = [0, 0, 0, 0, 0, 0, 0, 0, 0, 0]\n",
    "    \n",
    "    #update\n",
    "    manager = Manager()\n",
    "    manager_list = manager.list(lst)\n",
    "    \n",
    "    try:\n",
    "        for i in range(6):\n",
    "            print(i)\n",
    "            time.sleep(random.random())\n",
    "            pos_lst = [0, 1, 2, 3, 4, 5, 6, 7, 8, 9]\n",
    "            pool.apply_async(process_modify, args=(manager_list, pos_lst))\n",
    "    except Exception as ex:\n",
    "        print(ex)\n",
    "        traceback.print_exc()\n",
    "        \n",
    "    pool.close()\n",
    "    pool.join()\n",
    "    \n",
    "    print(\"Multiple Process is Finished!!!\")\n",
    "    \n",
    "    print(lst)\n",
    "    print(manager_list)"
   ]
  },
  {
   "cell_type": "markdown",
   "metadata": {},
   "source": [
    "多进程，共享自定义数据类型"
   ]
  },
  {
   "cell_type": "code",
   "execution_count": null,
   "metadata": {
    "ExecuteTime": {
     "start_time": "2021-09-18T14:40:36.737Z"
    }
   },
   "outputs": [],
   "source": [
    "# %%writefile demo.py\n",
    "import threading\n",
    "import multiprocessing\n",
    "from multiprocessing.managers import BaseManager\n",
    "\n",
    "class Data:\n",
    "    def __init__(self,data=None):\n",
    "        self.data = data\n",
    "\n",
    "    def get(self):\n",
    "        return self.data\n",
    "\n",
    "    def set(self,data):\n",
    "        self.data = data\n",
    "        \n",
    "BaseManager.register(\"mydata\",Data)\n",
    "\n",
    "def test(name,data,lock):\n",
    "    lock.acquire()\n",
    "    print(\"in thread {} name is {}\".format(threading.current_thread(),name))\n",
    "    print(\"data is {} id(data) is {}\".format(data,id(data)))\n",
    "    data.set(data.get()+1)\n",
    "    lock.release()\n",
    "\n",
    "\n",
    "\n",
    "def getManager():\n",
    "    m = BaseManager()\n",
    "    m.start()\n",
    "    return m\n",
    "\n",
    "\n",
    "if __name__ == '__main__':\n",
    "    manager = getManager()\n",
    "    d = manager.mydata(0)\n",
    "    thlist = []\n",
    "    name = \"yang\"\n",
    "    lock = multiprocessing.Lock()\n",
    "    for i in range(5):\n",
    "        th = multiprocessing.Process(target=test,args=(name,d,lock))\n",
    "        th.start()\n",
    "        thlist.append(th)\n",
    "    for i in thlist:\n",
    "        i.join()\n",
    "    print(d.get())"
   ]
  },
  {
   "cell_type": "code",
   "execution_count": 2,
   "metadata": {
    "ExecuteTime": {
     "end_time": "2021-09-18T14:40:29.219324Z",
     "start_time": "2021-09-18T14:40:28.964926Z"
    }
   },
   "outputs": [
    {
     "name": "stdout",
     "output_type": "stream",
     "text": [
      "5\n"
     ]
    }
   ],
   "source": [
    "%run demo.py # 在这里执行，不会打印执行结果，需要在terminal中打印"
   ]
  },
  {
   "cell_type": "markdown",
   "metadata": {},
   "source": [
    "## 加锁\n",
    "\n",
    "[Python中各种锁](https://www.jianshu.com/p/083bbe5f5534)"
   ]
  },
  {
   "cell_type": "code",
   "execution_count": 28,
   "metadata": {
    "ExecuteTime": {
     "end_time": "2021-09-18T08:36:23.263497Z",
     "start_time": "2021-09-18T08:36:23.254521Z"
    }
   },
   "outputs": [
    {
     "name": "stdout",
     "output_type": "stream",
     "text": [
      "Overwriting lock_demo.py\n"
     ]
    }
   ],
   "source": [
    "%%writefile lock_demo.py\n",
    "\n",
    "import time\n",
    "import os\n",
    "import random\n",
    "from multiprocessing import Pool, cpu_count, Manager, Lock\n",
    "\n",
    "def modify(lst, pos):\n",
    "    print(\"I am here %d\" %os.getpid())\n",
    "    try:\n",
    "        v = lst[pos]\n",
    "        time.sleep(1)\n",
    "        lst[pos] = v+1\n",
    "    except Exception as ex:\n",
    "        print(ex)\n",
    "        traceback.print_exc()\n",
    "    \n",
    "        \n",
    "    print(\"I am Finished %d\" %os.getpid())\n",
    "    \n",
    "def process_modify(lst, pos_lst, lock):\n",
    "    print(\"Start %d\" %os.getpid())\n",
    "    lock.acquire()\n",
    "\n",
    "    try:\n",
    "        for pos in pos_lst:\n",
    "            modify(lst, pos)\n",
    "    except Exception as ex:\n",
    "        print(ex)\n",
    "        traceback.print_exc()\n",
    "    finally:\n",
    "        lock.release()\n",
    "    \n",
    "    \n",
    "if __name__ == \"__main__\":\n",
    "    __spec__ = \"ModuleSpec(name='builtins', loader=<class '_frozen_importlib.BuiltinImporter'>)\"\n",
    "    pool = Pool(processes=cpu_count())\n",
    "    \n",
    "    lst = [0, 0, 0, 0, 0, 0, 0, 0, 0, 0]\n",
    "    \n",
    "    #update\n",
    "    manager = Manager()\n",
    "    manager_list = manager.list(lst)\n",
    "    \n",
    "    #update 2\n",
    "    lock = Lock()\n",
    "    \n",
    "    try:\n",
    "        for i in range(6):\n",
    "            print(i)\n",
    "            time.sleep(random.random())\n",
    "            pos_lst = [0, 1, 2, 3, 4, 5, 6, 7, 8, 9]\n",
    "            pool.apply_async(process_modify, args=(manager_list, pos_lst, lock))\n",
    "    except Exception as ex:\n",
    "        print(ex)\n",
    "        traceback.print_exc()\n",
    "        \n",
    "    pool.close()\n",
    "    pool.join()\n",
    "    \n",
    "    print(\"Multiple Process is Finished!!!\")\n",
    "    \n",
    "    print(lst)\n",
    "    print(manager_list)"
   ]
  },
  {
   "cell_type": "markdown",
   "metadata": {
    "ExecuteTime": {
     "end_time": "2021-09-18T08:23:33.990208Z",
     "start_time": "2021-09-18T08:23:33.896424Z"
    }
   },
   "source": [
    "## 多进程返回值"
   ]
  },
  {
   "cell_type": "code",
   "execution_count": null,
   "metadata": {
    "ExecuteTime": {
     "start_time": "2021-09-18T15:20:29.702Z"
    }
   },
   "outputs": [],
   "source": [
    "def worker(procnum, return_dict):\n",
    "    '''worker function'''\n",
    "    print str(procnum) + ' represent!'\n",
    "    return_dict[procnum] = procnum\n",
    "\n",
    "if __name__ == '__main__':\n",
    "    manager = Manager()\n",
    "    return_dict = manager.dict()\n",
    "    jobs = []\n",
    "    for i in range(5):\n",
    "        p = multiprocessing.Process(target=worker, args=(i,return_dict))\n",
    "        jobs.append(p)\n",
    "        p.start()\n",
    "\n",
    "    for proc in jobs:\n",
    "        proc.join()\n",
    "    # 最后的结果是多个进程返回值的集合\n",
    "    print return_dict.values()"
   ]
  },
  {
   "cell_type": "code",
   "execution_count": 21,
   "metadata": {
    "ExecuteTime": {
     "end_time": "2021-09-18T08:26:08.916031Z",
     "start_time": "2021-09-18T08:26:08.898049Z"
    }
   },
   "outputs": [],
   "source": [
    "import random"
   ]
  },
  {
   "cell_type": "code",
   "execution_count": null,
   "metadata": {
    "ExecuteTime": {
     "start_time": "2021-09-18T15:43:14.783Z"
    }
   },
   "outputs": [],
   "source": []
  },
  {
   "cell_type": "code",
   "execution_count": null,
   "metadata": {},
   "outputs": [],
   "source": []
  }
 ],
 "metadata": {
  "kernelspec": {
   "display_name": "Python 3",
   "language": "python",
   "name": "python3"
  },
  "language_info": {
   "codemirror_mode": {
    "name": "ipython",
    "version": 3
   },
   "file_extension": ".py",
   "mimetype": "text/x-python",
   "name": "python",
   "nbconvert_exporter": "python",
   "pygments_lexer": "ipython3",
   "version": "3.7.4"
  },
  "toc": {
   "base_numbering": 1,
   "nav_menu": {},
   "number_sections": true,
   "sideBar": true,
   "skip_h1_title": false,
   "title_cell": "Table of Contents",
   "title_sidebar": "Contents",
   "toc_cell": false,
   "toc_position": {
    "height": "calc(100% - 180px)",
    "left": "10px",
    "top": "150px",
    "width": "239.653px"
   },
   "toc_section_display": true,
   "toc_window_display": true
  },
  "varInspector": {
   "cols": {
    "lenName": 16,
    "lenType": 16,
    "lenVar": 40
   },
   "kernels_config": {
    "python": {
     "delete_cmd_postfix": "",
     "delete_cmd_prefix": "del ",
     "library": "var_list.py",
     "varRefreshCmd": "print(var_dic_list())"
    },
    "r": {
     "delete_cmd_postfix": ") ",
     "delete_cmd_prefix": "rm(",
     "library": "var_list.r",
     "varRefreshCmd": "cat(var_dic_list()) "
    }
   },
   "types_to_exclude": [
    "module",
    "function",
    "builtin_function_or_method",
    "instance",
    "_Feature"
   ],
   "window_display": false
  }
 },
 "nbformat": 4,
 "nbformat_minor": 2
}
