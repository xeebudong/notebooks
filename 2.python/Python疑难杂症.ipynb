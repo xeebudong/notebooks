{
 "cells": [
  {
   "cell_type": "code",
   "execution_count": 1,
   "metadata": {
    "ExecuteTime": {
     "end_time": "2021-09-10T06:17:45.135835Z",
     "start_time": "2021-09-10T06:17:44.761728Z"
    }
   },
   "outputs": [],
   "source": [
    "import pandas as pd\n",
    "from random import randint"
   ]
  },
  {
   "cell_type": "code",
   "execution_count": 2,
   "metadata": {
    "ExecuteTime": {
     "end_time": "2021-09-10T06:17:45.167321Z",
     "start_time": "2021-09-10T06:17:45.140871Z"
    }
   },
   "outputs": [
    {
     "data": {
      "text/plain": [
       "cnt      2\n",
       "cnt_2    2\n",
       "dtype: int64"
      ]
     },
     "execution_count": 2,
     "metadata": {},
     "output_type": "execute_result"
    }
   ],
   "source": [
    "def demo_exp_s_1(df):\n",
    "    n = randint(1, 2)\n",
    "    \n",
    "    if n ==1:\n",
    "        return pd.Series({\"cnt\":n})\n",
    "    elif n ==2:\n",
    "        return pd.Series({\"cnt\":n, \"cnt_2\":2})\n",
    "    else:\n",
    "        print(\"Exp\")\n",
    "    \n",
    "r = demo_exp_s_1(1)\n",
    "r"
   ]
  },
  {
   "cell_type": "code",
   "execution_count": 3,
   "metadata": {
    "ExecuteTime": {
     "end_time": "2021-09-10T06:17:45.183105Z",
     "start_time": "2021-09-10T06:17:45.170139Z"
    }
   },
   "outputs": [],
   "source": [
    "def demo_exp_s_2(df):\n",
    "    n = randint(1, 2)\n",
    "    \n",
    "    if n ==1:\n",
    "        return pd.Series({\"cnt\":n, \"cnt_2\":2})\n",
    "    elif n ==2:\n",
    "        return pd.Series({\"cnt\":n, \"cnt_2\":2})\n",
    "    else:\n",
    "        print(\"Exp\")"
   ]
  },
  {
   "cell_type": "code",
   "execution_count": 4,
   "metadata": {
    "ExecuteTime": {
     "end_time": "2021-09-10T06:17:45.198066Z",
     "start_time": "2021-09-10T06:17:45.192098Z"
    }
   },
   "outputs": [],
   "source": [
    "def demo_exp_d_1(df):\n",
    "    n = randint(1, 2)\n",
    "    \n",
    "    if n ==1:\n",
    "        return {\"cnt\":[n], \"cnt_2\":[2]}\n",
    "    elif n ==2:\n",
    "        return {\"cnt\":[n]}\n",
    "    else:\n",
    "        print(\"Exp\")"
   ]
  },
  {
   "cell_type": "code",
   "execution_count": 5,
   "metadata": {
    "ExecuteTime": {
     "end_time": "2021-09-10T06:17:45.214022Z",
     "start_time": "2021-09-10T06:17:45.204089Z"
    }
   },
   "outputs": [],
   "source": [
    "def demo_exp_d_2(df):\n",
    "    n = randint(1, 2)\n",
    "    \n",
    "    if n ==1:\n",
    "        return {\"cnt\":[n], \"cnt_2\":[2]}\n",
    "    elif n ==2:\n",
    "        return {\"cnt\":[n], \"cnt_2\":[2]}\n",
    "    else:\n",
    "        print(\"Exp\")"
   ]
  },
  {
   "cell_type": "code",
   "execution_count": 6,
   "metadata": {
    "ExecuteTime": {
     "end_time": "2021-09-10T06:17:45.229015Z",
     "start_time": "2021-09-10T06:17:45.216017Z"
    }
   },
   "outputs": [],
   "source": [
    "def demo_exp_df_1(df):\n",
    "    n = randint(1, 2)\n",
    "    \n",
    "    if n ==1:\n",
    "        return pd.DataFrame({\"cnt\":[n], \"cnt_2\":[2]})\n",
    "    elif n ==2:\n",
    "        return pd.DataFrame({\"cnt\":[n]})\n",
    "    else:\n",
    "        print(\"Exp\")"
   ]
  },
  {
   "cell_type": "code",
   "execution_count": 7,
   "metadata": {
    "ExecuteTime": {
     "end_time": "2021-09-10T06:17:45.244939Z",
     "start_time": "2021-09-10T06:17:45.231976Z"
    }
   },
   "outputs": [],
   "source": [
    "def demo_exp_df_2(df):\n",
    "    n = randint(1, 2)\n",
    "    \n",
    "    if n ==1:\n",
    "        return pd.DataFrame({\"cnt\":[n], \"cnt_2\":[2]})\n",
    "    elif n ==2:\n",
    "        return pd.DataFrame({\"cnt\":[n], \"cnt_2\":[2]})\n",
    "    else:\n",
    "        print(\"Exp\")"
   ]
  },
  {
   "cell_type": "code",
   "execution_count": 8,
   "metadata": {
    "ExecuteTime": {
     "end_time": "2021-09-10T06:17:45.275857Z",
     "start_time": "2021-09-10T06:17:45.247932Z"
    }
   },
   "outputs": [
    {
     "data": {
      "text/plain": [
       "(10000, 1)"
      ]
     },
     "execution_count": 8,
     "metadata": {},
     "output_type": "execute_result"
    }
   ],
   "source": [
    "df = pd.DataFrame({\"A\":[randint(1, 10) for i in range(10000)]})\n",
    "df.shape"
   ]
  },
  {
   "cell_type": "markdown",
   "metadata": {},
   "source": [
    "## 如果每一个返回的Series是不整齐的，则不会自动成df"
   ]
  },
  {
   "cell_type": "markdown",
   "metadata": {
    "ExecuteTime": {
     "end_time": "2021-09-10T06:16:00.217749Z",
     "start_time": "2021-09-10T06:16:00.204788Z"
    }
   },
   "source": [
    "### Series"
   ]
  },
  {
   "cell_type": "code",
   "execution_count": 9,
   "metadata": {
    "ExecuteTime": {
     "end_time": "2021-09-10T06:17:45.322826Z",
     "start_time": "2021-09-10T06:17:45.277851Z"
    }
   },
   "outputs": [
    {
     "data": {
      "text/html": [
       "<div>\n",
       "<style scoped>\n",
       "    .dataframe tbody tr th:only-of-type {\n",
       "        vertical-align: middle;\n",
       "    }\n",
       "\n",
       "    .dataframe tbody tr th {\n",
       "        vertical-align: top;\n",
       "    }\n",
       "\n",
       "    .dataframe thead th {\n",
       "        text-align: right;\n",
       "    }\n",
       "</style>\n",
       "<table border=\"1\" class=\"dataframe\">\n",
       "  <thead>\n",
       "    <tr style=\"text-align: right;\">\n",
       "      <th></th>\n",
       "      <th></th>\n",
       "      <th>0</th>\n",
       "    </tr>\n",
       "  </thead>\n",
       "  <tbody>\n",
       "    <tr>\n",
       "      <th rowspan=\"2\" valign=\"top\">0</th>\n",
       "      <th>cnt</th>\n",
       "      <td>2</td>\n",
       "    </tr>\n",
       "    <tr>\n",
       "      <th>cnt_2</th>\n",
       "      <td>2</td>\n",
       "    </tr>\n",
       "    <tr>\n",
       "      <th rowspan=\"2\" valign=\"top\">1</th>\n",
       "      <th>cnt</th>\n",
       "      <td>2</td>\n",
       "    </tr>\n",
       "    <tr>\n",
       "      <th>cnt_2</th>\n",
       "      <td>2</td>\n",
       "    </tr>\n",
       "    <tr>\n",
       "      <th>2</th>\n",
       "      <th>cnt</th>\n",
       "      <td>1</td>\n",
       "    </tr>\n",
       "    <tr>\n",
       "      <th>3</th>\n",
       "      <th>cnt</th>\n",
       "      <td>1</td>\n",
       "    </tr>\n",
       "    <tr>\n",
       "      <th rowspan=\"2\" valign=\"top\">4</th>\n",
       "      <th>cnt</th>\n",
       "      <td>2</td>\n",
       "    </tr>\n",
       "    <tr>\n",
       "      <th>cnt_2</th>\n",
       "      <td>2</td>\n",
       "    </tr>\n",
       "    <tr>\n",
       "      <th>5</th>\n",
       "      <th>cnt</th>\n",
       "      <td>1</td>\n",
       "    </tr>\n",
       "    <tr>\n",
       "      <th rowspan=\"2\" valign=\"top\">6</th>\n",
       "      <th>cnt</th>\n",
       "      <td>2</td>\n",
       "    </tr>\n",
       "    <tr>\n",
       "      <th>cnt_2</th>\n",
       "      <td>2</td>\n",
       "    </tr>\n",
       "    <tr>\n",
       "      <th>7</th>\n",
       "      <th>cnt</th>\n",
       "      <td>1</td>\n",
       "    </tr>\n",
       "    <tr>\n",
       "      <th rowspan=\"2\" valign=\"top\">8</th>\n",
       "      <th>cnt</th>\n",
       "      <td>2</td>\n",
       "    </tr>\n",
       "    <tr>\n",
       "      <th>cnt_2</th>\n",
       "      <td>2</td>\n",
       "    </tr>\n",
       "    <tr>\n",
       "      <th>9</th>\n",
       "      <th>cnt</th>\n",
       "      <td>1</td>\n",
       "    </tr>\n",
       "  </tbody>\n",
       "</table>\n",
       "</div>"
      ],
      "text/plain": [
       "         0\n",
       "0 cnt    2\n",
       "  cnt_2  2\n",
       "1 cnt    2\n",
       "  cnt_2  2\n",
       "2 cnt    1\n",
       "3 cnt    1\n",
       "4 cnt    2\n",
       "  cnt_2  2\n",
       "5 cnt    1\n",
       "6 cnt    2\n",
       "  cnt_2  2\n",
       "7 cnt    1\n",
       "8 cnt    2\n",
       "  cnt_2  2\n",
       "9 cnt    1"
      ]
     },
     "execution_count": 9,
     "metadata": {},
     "output_type": "execute_result"
    }
   ],
   "source": [
    "stat_grp = pd.DataFrame(df.groupby(\"A\", as_index=None).apply(demo_exp_s_1))\n",
    "stat_grp"
   ]
  },
  {
   "cell_type": "code",
   "execution_count": 10,
   "metadata": {
    "ExecuteTime": {
     "end_time": "2021-09-10T06:17:45.353806Z",
     "start_time": "2021-09-10T06:17:45.325816Z"
    }
   },
   "outputs": [
    {
     "data": {
      "text/html": [
       "<div>\n",
       "<style scoped>\n",
       "    .dataframe tbody tr th:only-of-type {\n",
       "        vertical-align: middle;\n",
       "    }\n",
       "\n",
       "    .dataframe tbody tr th {\n",
       "        vertical-align: top;\n",
       "    }\n",
       "\n",
       "    .dataframe thead th {\n",
       "        text-align: right;\n",
       "    }\n",
       "</style>\n",
       "<table border=\"1\" class=\"dataframe\">\n",
       "  <thead>\n",
       "    <tr style=\"text-align: right;\">\n",
       "      <th></th>\n",
       "      <th>A</th>\n",
       "      <th>cnt</th>\n",
       "      <th>cnt_2</th>\n",
       "    </tr>\n",
       "  </thead>\n",
       "  <tbody>\n",
       "    <tr>\n",
       "      <th>0</th>\n",
       "      <td>1</td>\n",
       "      <td>1</td>\n",
       "      <td>2</td>\n",
       "    </tr>\n",
       "    <tr>\n",
       "      <th>1</th>\n",
       "      <td>2</td>\n",
       "      <td>2</td>\n",
       "      <td>2</td>\n",
       "    </tr>\n",
       "    <tr>\n",
       "      <th>2</th>\n",
       "      <td>3</td>\n",
       "      <td>1</td>\n",
       "      <td>2</td>\n",
       "    </tr>\n",
       "    <tr>\n",
       "      <th>3</th>\n",
       "      <td>4</td>\n",
       "      <td>2</td>\n",
       "      <td>2</td>\n",
       "    </tr>\n",
       "    <tr>\n",
       "      <th>4</th>\n",
       "      <td>5</td>\n",
       "      <td>2</td>\n",
       "      <td>2</td>\n",
       "    </tr>\n",
       "    <tr>\n",
       "      <th>5</th>\n",
       "      <td>6</td>\n",
       "      <td>2</td>\n",
       "      <td>2</td>\n",
       "    </tr>\n",
       "    <tr>\n",
       "      <th>6</th>\n",
       "      <td>7</td>\n",
       "      <td>1</td>\n",
       "      <td>2</td>\n",
       "    </tr>\n",
       "    <tr>\n",
       "      <th>7</th>\n",
       "      <td>8</td>\n",
       "      <td>1</td>\n",
       "      <td>2</td>\n",
       "    </tr>\n",
       "    <tr>\n",
       "      <th>8</th>\n",
       "      <td>9</td>\n",
       "      <td>1</td>\n",
       "      <td>2</td>\n",
       "    </tr>\n",
       "    <tr>\n",
       "      <th>9</th>\n",
       "      <td>10</td>\n",
       "      <td>1</td>\n",
       "      <td>2</td>\n",
       "    </tr>\n",
       "  </tbody>\n",
       "</table>\n",
       "</div>"
      ],
      "text/plain": [
       "    A  cnt  cnt_2\n",
       "0   1    1      2\n",
       "1   2    2      2\n",
       "2   3    1      2\n",
       "3   4    2      2\n",
       "4   5    2      2\n",
       "5   6    2      2\n",
       "6   7    1      2\n",
       "7   8    1      2\n",
       "8   9    1      2\n",
       "9  10    1      2"
      ]
     },
     "execution_count": 10,
     "metadata": {},
     "output_type": "execute_result"
    }
   ],
   "source": [
    "df.groupby(\"A\", as_index=None).apply(demo_exp_s_2)"
   ]
  },
  {
   "cell_type": "markdown",
   "metadata": {},
   "source": [
    "### Dict"
   ]
  },
  {
   "cell_type": "code",
   "execution_count": 11,
   "metadata": {
    "ExecuteTime": {
     "end_time": "2021-09-10T06:17:45.384754Z",
     "start_time": "2021-09-10T06:17:45.356810Z"
    },
    "scrolled": true
   },
   "outputs": [
    {
     "data": {
      "text/html": [
       "<div>\n",
       "<style scoped>\n",
       "    .dataframe tbody tr th:only-of-type {\n",
       "        vertical-align: middle;\n",
       "    }\n",
       "\n",
       "    .dataframe tbody tr th {\n",
       "        vertical-align: top;\n",
       "    }\n",
       "\n",
       "    .dataframe thead th {\n",
       "        text-align: right;\n",
       "    }\n",
       "</style>\n",
       "<table border=\"1\" class=\"dataframe\">\n",
       "  <thead>\n",
       "    <tr style=\"text-align: right;\">\n",
       "      <th></th>\n",
       "      <th>A</th>\n",
       "      <th>NaN</th>\n",
       "    </tr>\n",
       "  </thead>\n",
       "  <tbody>\n",
       "    <tr>\n",
       "      <th>0</th>\n",
       "      <td>1</td>\n",
       "      <td>NaN</td>\n",
       "    </tr>\n",
       "    <tr>\n",
       "      <th>1</th>\n",
       "      <td>2</td>\n",
       "      <td>NaN</td>\n",
       "    </tr>\n",
       "    <tr>\n",
       "      <th>2</th>\n",
       "      <td>3</td>\n",
       "      <td>NaN</td>\n",
       "    </tr>\n",
       "    <tr>\n",
       "      <th>3</th>\n",
       "      <td>4</td>\n",
       "      <td>NaN</td>\n",
       "    </tr>\n",
       "    <tr>\n",
       "      <th>4</th>\n",
       "      <td>5</td>\n",
       "      <td>NaN</td>\n",
       "    </tr>\n",
       "    <tr>\n",
       "      <th>5</th>\n",
       "      <td>6</td>\n",
       "      <td>NaN</td>\n",
       "    </tr>\n",
       "    <tr>\n",
       "      <th>6</th>\n",
       "      <td>7</td>\n",
       "      <td>NaN</td>\n",
       "    </tr>\n",
       "    <tr>\n",
       "      <th>7</th>\n",
       "      <td>8</td>\n",
       "      <td>NaN</td>\n",
       "    </tr>\n",
       "    <tr>\n",
       "      <th>8</th>\n",
       "      <td>9</td>\n",
       "      <td>NaN</td>\n",
       "    </tr>\n",
       "    <tr>\n",
       "      <th>9</th>\n",
       "      <td>10</td>\n",
       "      <td>NaN</td>\n",
       "    </tr>\n",
       "  </tbody>\n",
       "</table>\n",
       "</div>"
      ],
      "text/plain": [
       "    A  NaN\n",
       "0   1  NaN\n",
       "1   2  NaN\n",
       "2   3  NaN\n",
       "3   4  NaN\n",
       "4   5  NaN\n",
       "5   6  NaN\n",
       "6   7  NaN\n",
       "7   8  NaN\n",
       "8   9  NaN\n",
       "9  10  NaN"
      ]
     },
     "execution_count": 11,
     "metadata": {},
     "output_type": "execute_result"
    }
   ],
   "source": [
    "stat_grp = pd.DataFrame(df.groupby(\"A\", as_index=None).apply(demo_exp_d_1))\n",
    "stat_grp"
   ]
  },
  {
   "cell_type": "code",
   "execution_count": 12,
   "metadata": {
    "ExecuteTime": {
     "end_time": "2021-09-10T06:17:45.429898Z",
     "start_time": "2021-09-10T06:17:45.385747Z"
    },
    "scrolled": true
   },
   "outputs": [
    {
     "data": {
      "text/html": [
       "<div>\n",
       "<style scoped>\n",
       "    .dataframe tbody tr th:only-of-type {\n",
       "        vertical-align: middle;\n",
       "    }\n",
       "\n",
       "    .dataframe tbody tr th {\n",
       "        vertical-align: top;\n",
       "    }\n",
       "\n",
       "    .dataframe thead th {\n",
       "        text-align: right;\n",
       "    }\n",
       "</style>\n",
       "<table border=\"1\" class=\"dataframe\">\n",
       "  <thead>\n",
       "    <tr style=\"text-align: right;\">\n",
       "      <th></th>\n",
       "      <th>0</th>\n",
       "    </tr>\n",
       "    <tr>\n",
       "      <th>A</th>\n",
       "      <th></th>\n",
       "    </tr>\n",
       "  </thead>\n",
       "  <tbody>\n",
       "    <tr>\n",
       "      <th>1</th>\n",
       "      <td>{'cnt': [1], 'cnt_2': [2]}</td>\n",
       "    </tr>\n",
       "    <tr>\n",
       "      <th>2</th>\n",
       "      <td>{'cnt': [2], 'cnt_2': [2]}</td>\n",
       "    </tr>\n",
       "    <tr>\n",
       "      <th>3</th>\n",
       "      <td>{'cnt': [2], 'cnt_2': [2]}</td>\n",
       "    </tr>\n",
       "    <tr>\n",
       "      <th>4</th>\n",
       "      <td>{'cnt': [2], 'cnt_2': [2]}</td>\n",
       "    </tr>\n",
       "    <tr>\n",
       "      <th>5</th>\n",
       "      <td>{'cnt': [2], 'cnt_2': [2]}</td>\n",
       "    </tr>\n",
       "    <tr>\n",
       "      <th>6</th>\n",
       "      <td>{'cnt': [1], 'cnt_2': [2]}</td>\n",
       "    </tr>\n",
       "    <tr>\n",
       "      <th>7</th>\n",
       "      <td>{'cnt': [1], 'cnt_2': [2]}</td>\n",
       "    </tr>\n",
       "    <tr>\n",
       "      <th>8</th>\n",
       "      <td>{'cnt': [2], 'cnt_2': [2]}</td>\n",
       "    </tr>\n",
       "    <tr>\n",
       "      <th>9</th>\n",
       "      <td>{'cnt': [1], 'cnt_2': [2]}</td>\n",
       "    </tr>\n",
       "    <tr>\n",
       "      <th>10</th>\n",
       "      <td>{'cnt': [1], 'cnt_2': [2]}</td>\n",
       "    </tr>\n",
       "  </tbody>\n",
       "</table>\n",
       "</div>"
      ],
      "text/plain": [
       "                             0\n",
       "A                             \n",
       "1   {'cnt': [1], 'cnt_2': [2]}\n",
       "2   {'cnt': [2], 'cnt_2': [2]}\n",
       "3   {'cnt': [2], 'cnt_2': [2]}\n",
       "4   {'cnt': [2], 'cnt_2': [2]}\n",
       "5   {'cnt': [2], 'cnt_2': [2]}\n",
       "6   {'cnt': [1], 'cnt_2': [2]}\n",
       "7   {'cnt': [1], 'cnt_2': [2]}\n",
       "8   {'cnt': [2], 'cnt_2': [2]}\n",
       "9   {'cnt': [1], 'cnt_2': [2]}\n",
       "10  {'cnt': [1], 'cnt_2': [2]}"
      ]
     },
     "execution_count": 12,
     "metadata": {},
     "output_type": "execute_result"
    }
   ],
   "source": [
    "stat_grp = pd.DataFrame(df.groupby(\"A\").apply(demo_exp_d_2))\n",
    "stat_grp"
   ]
  },
  {
   "cell_type": "markdown",
   "metadata": {},
   "source": [
    "### Df"
   ]
  },
  {
   "cell_type": "code",
   "execution_count": 17,
   "metadata": {
    "ExecuteTime": {
     "end_time": "2021-09-10T06:19:28.242704Z",
     "start_time": "2021-09-10T06:19:28.205744Z"
    }
   },
   "outputs": [
    {
     "data": {
      "text/html": [
       "<div>\n",
       "<style scoped>\n",
       "    .dataframe tbody tr th:only-of-type {\n",
       "        vertical-align: middle;\n",
       "    }\n",
       "\n",
       "    .dataframe tbody tr th {\n",
       "        vertical-align: top;\n",
       "    }\n",
       "\n",
       "    .dataframe thead th {\n",
       "        text-align: right;\n",
       "    }\n",
       "</style>\n",
       "<table border=\"1\" class=\"dataframe\">\n",
       "  <thead>\n",
       "    <tr style=\"text-align: right;\">\n",
       "      <th></th>\n",
       "      <th>A</th>\n",
       "      <th>level_1</th>\n",
       "      <th>cnt</th>\n",
       "      <th>cnt_2</th>\n",
       "    </tr>\n",
       "  </thead>\n",
       "  <tbody>\n",
       "    <tr>\n",
       "      <th>0</th>\n",
       "      <td>1</td>\n",
       "      <td>0</td>\n",
       "      <td>2</td>\n",
       "      <td>NaN</td>\n",
       "    </tr>\n",
       "    <tr>\n",
       "      <th>1</th>\n",
       "      <td>2</td>\n",
       "      <td>0</td>\n",
       "      <td>1</td>\n",
       "      <td>2.0</td>\n",
       "    </tr>\n",
       "    <tr>\n",
       "      <th>2</th>\n",
       "      <td>3</td>\n",
       "      <td>0</td>\n",
       "      <td>2</td>\n",
       "      <td>NaN</td>\n",
       "    </tr>\n",
       "    <tr>\n",
       "      <th>3</th>\n",
       "      <td>4</td>\n",
       "      <td>0</td>\n",
       "      <td>1</td>\n",
       "      <td>2.0</td>\n",
       "    </tr>\n",
       "    <tr>\n",
       "      <th>4</th>\n",
       "      <td>5</td>\n",
       "      <td>0</td>\n",
       "      <td>2</td>\n",
       "      <td>NaN</td>\n",
       "    </tr>\n",
       "    <tr>\n",
       "      <th>5</th>\n",
       "      <td>6</td>\n",
       "      <td>0</td>\n",
       "      <td>2</td>\n",
       "      <td>NaN</td>\n",
       "    </tr>\n",
       "    <tr>\n",
       "      <th>6</th>\n",
       "      <td>7</td>\n",
       "      <td>0</td>\n",
       "      <td>2</td>\n",
       "      <td>NaN</td>\n",
       "    </tr>\n",
       "    <tr>\n",
       "      <th>7</th>\n",
       "      <td>8</td>\n",
       "      <td>0</td>\n",
       "      <td>1</td>\n",
       "      <td>2.0</td>\n",
       "    </tr>\n",
       "    <tr>\n",
       "      <th>8</th>\n",
       "      <td>9</td>\n",
       "      <td>0</td>\n",
       "      <td>2</td>\n",
       "      <td>NaN</td>\n",
       "    </tr>\n",
       "    <tr>\n",
       "      <th>9</th>\n",
       "      <td>10</td>\n",
       "      <td>0</td>\n",
       "      <td>1</td>\n",
       "      <td>2.0</td>\n",
       "    </tr>\n",
       "  </tbody>\n",
       "</table>\n",
       "</div>"
      ],
      "text/plain": [
       "    A  level_1  cnt  cnt_2\n",
       "0   1        0    2    NaN\n",
       "1   2        0    1    2.0\n",
       "2   3        0    2    NaN\n",
       "3   4        0    1    2.0\n",
       "4   5        0    2    NaN\n",
       "5   6        0    2    NaN\n",
       "6   7        0    2    NaN\n",
       "7   8        0    1    2.0\n",
       "8   9        0    2    NaN\n",
       "9  10        0    1    2.0"
      ]
     },
     "execution_count": 17,
     "metadata": {},
     "output_type": "execute_result"
    }
   ],
   "source": [
    "stat_grp = pd.DataFrame(df.groupby(\"A\").apply(demo_exp_df_1)).reset_index()\n",
    "stat_grp"
   ]
  },
  {
   "cell_type": "code",
   "execution_count": 19,
   "metadata": {
    "ExecuteTime": {
     "end_time": "2021-09-10T06:20:11.149315Z",
     "start_time": "2021-09-10T06:20:11.124374Z"
    }
   },
   "outputs": [
    {
     "data": {
      "text/html": [
       "<div>\n",
       "<style scoped>\n",
       "    .dataframe tbody tr th:only-of-type {\n",
       "        vertical-align: middle;\n",
       "    }\n",
       "\n",
       "    .dataframe tbody tr th {\n",
       "        vertical-align: top;\n",
       "    }\n",
       "\n",
       "    .dataframe thead th {\n",
       "        text-align: right;\n",
       "    }\n",
       "</style>\n",
       "<table border=\"1\" class=\"dataframe\">\n",
       "  <thead>\n",
       "    <tr style=\"text-align: right;\">\n",
       "      <th></th>\n",
       "      <th>A</th>\n",
       "      <th>level_1</th>\n",
       "      <th>cnt</th>\n",
       "      <th>cnt_2</th>\n",
       "    </tr>\n",
       "  </thead>\n",
       "  <tbody>\n",
       "    <tr>\n",
       "      <th>0</th>\n",
       "      <td>1</td>\n",
       "      <td>0</td>\n",
       "      <td>1</td>\n",
       "      <td>2</td>\n",
       "    </tr>\n",
       "    <tr>\n",
       "      <th>1</th>\n",
       "      <td>2</td>\n",
       "      <td>0</td>\n",
       "      <td>1</td>\n",
       "      <td>2</td>\n",
       "    </tr>\n",
       "    <tr>\n",
       "      <th>2</th>\n",
       "      <td>3</td>\n",
       "      <td>0</td>\n",
       "      <td>1</td>\n",
       "      <td>2</td>\n",
       "    </tr>\n",
       "    <tr>\n",
       "      <th>3</th>\n",
       "      <td>4</td>\n",
       "      <td>0</td>\n",
       "      <td>1</td>\n",
       "      <td>2</td>\n",
       "    </tr>\n",
       "    <tr>\n",
       "      <th>4</th>\n",
       "      <td>5</td>\n",
       "      <td>0</td>\n",
       "      <td>1</td>\n",
       "      <td>2</td>\n",
       "    </tr>\n",
       "    <tr>\n",
       "      <th>5</th>\n",
       "      <td>6</td>\n",
       "      <td>0</td>\n",
       "      <td>2</td>\n",
       "      <td>2</td>\n",
       "    </tr>\n",
       "    <tr>\n",
       "      <th>6</th>\n",
       "      <td>7</td>\n",
       "      <td>0</td>\n",
       "      <td>1</td>\n",
       "      <td>2</td>\n",
       "    </tr>\n",
       "    <tr>\n",
       "      <th>7</th>\n",
       "      <td>8</td>\n",
       "      <td>0</td>\n",
       "      <td>2</td>\n",
       "      <td>2</td>\n",
       "    </tr>\n",
       "    <tr>\n",
       "      <th>8</th>\n",
       "      <td>9</td>\n",
       "      <td>0</td>\n",
       "      <td>1</td>\n",
       "      <td>2</td>\n",
       "    </tr>\n",
       "    <tr>\n",
       "      <th>9</th>\n",
       "      <td>10</td>\n",
       "      <td>0</td>\n",
       "      <td>1</td>\n",
       "      <td>2</td>\n",
       "    </tr>\n",
       "  </tbody>\n",
       "</table>\n",
       "</div>"
      ],
      "text/plain": [
       "    A  level_1  cnt  cnt_2\n",
       "0   1        0    1      2\n",
       "1   2        0    1      2\n",
       "2   3        0    1      2\n",
       "3   4        0    1      2\n",
       "4   5        0    1      2\n",
       "5   6        0    2      2\n",
       "6   7        0    1      2\n",
       "7   8        0    2      2\n",
       "8   9        0    1      2\n",
       "9  10        0    1      2"
      ]
     },
     "execution_count": 19,
     "metadata": {},
     "output_type": "execute_result"
    }
   ],
   "source": [
    "stat_grp = pd.DataFrame(df.groupby(\"A\").apply(demo_exp_df_2)).reset_index()\n",
    "stat_grp"
   ]
  },
  {
   "cell_type": "markdown",
   "metadata": {},
   "source": [
    "## df作为参数，真的应该谨慎"
   ]
  },
  {
   "cell_type": "code",
   "execution_count": 30,
   "metadata": {
    "ExecuteTime": {
     "end_time": "2021-09-10T08:14:30.597682Z",
     "start_time": "2021-09-10T08:14:30.447054Z"
    },
    "scrolled": true
   },
   "outputs": [
    {
     "data": {
      "text/html": [
       "<div>\n",
       "<style scoped>\n",
       "    .dataframe tbody tr th:only-of-type {\n",
       "        vertical-align: middle;\n",
       "    }\n",
       "\n",
       "    .dataframe tbody tr th {\n",
       "        vertical-align: top;\n",
       "    }\n",
       "\n",
       "    .dataframe thead th {\n",
       "        text-align: right;\n",
       "    }\n",
       "</style>\n",
       "<table border=\"1\" class=\"dataframe\">\n",
       "  <thead>\n",
       "    <tr style=\"text-align: right;\">\n",
       "      <th></th>\n",
       "      <th>id</th>\n",
       "      <th>id_comp</th>\n",
       "      <th>dt</th>\n",
       "      <th>grp</th>\n",
       "    </tr>\n",
       "  </thead>\n",
       "  <tbody>\n",
       "    <tr>\n",
       "      <th>0</th>\n",
       "      <td>k1</td>\n",
       "      <td>1</td>\n",
       "      <td>1</td>\n",
       "      <td>A</td>\n",
       "    </tr>\n",
       "    <tr>\n",
       "      <th>1</th>\n",
       "      <td>k2</td>\n",
       "      <td>1</td>\n",
       "      <td>2</td>\n",
       "      <td>A</td>\n",
       "    </tr>\n",
       "    <tr>\n",
       "      <th>2</th>\n",
       "      <td>k3</td>\n",
       "      <td>2</td>\n",
       "      <td>3</td>\n",
       "      <td>B</td>\n",
       "    </tr>\n",
       "    <tr>\n",
       "      <th>3</th>\n",
       "      <td>k1</td>\n",
       "      <td>3</td>\n",
       "      <td>4</td>\n",
       "      <td>A</td>\n",
       "    </tr>\n",
       "    <tr>\n",
       "      <th>4</th>\n",
       "      <td>k5</td>\n",
       "      <td>1</td>\n",
       "      <td>5</td>\n",
       "      <td>D</td>\n",
       "    </tr>\n",
       "    <tr>\n",
       "      <th>5</th>\n",
       "      <td>k1</td>\n",
       "      <td>2</td>\n",
       "      <td>6</td>\n",
       "      <td>A</td>\n",
       "    </tr>\n",
       "    <tr>\n",
       "      <th>6</th>\n",
       "      <td>k1</td>\n",
       "      <td>5</td>\n",
       "      <td>7</td>\n",
       "      <td>A</td>\n",
       "    </tr>\n",
       "    <tr>\n",
       "      <th>7</th>\n",
       "      <td>k2</td>\n",
       "      <td>3</td>\n",
       "      <td>8</td>\n",
       "      <td>B</td>\n",
       "    </tr>\n",
       "    <tr>\n",
       "      <th>8</th>\n",
       "      <td>k3</td>\n",
       "      <td>1</td>\n",
       "      <td>9</td>\n",
       "      <td>A</td>\n",
       "    </tr>\n",
       "    <tr>\n",
       "      <th>9</th>\n",
       "      <td>k1</td>\n",
       "      <td>2</td>\n",
       "      <td>10</td>\n",
       "      <td>D</td>\n",
       "    </tr>\n",
       "  </tbody>\n",
       "</table>\n",
       "</div>"
      ],
      "text/plain": [
       "   id  id_comp  dt grp\n",
       "0  k1        1   1   A\n",
       "1  k2        1   2   A\n",
       "2  k3        2   3   B\n",
       "3  k1        3   4   A\n",
       "4  k5        1   5   D\n",
       "5  k1        2   6   A\n",
       "6  k1        5   7   A\n",
       "7  k2        3   8   B\n",
       "8  k3        1   9   A\n",
       "9  k1        2  10   D"
      ]
     },
     "metadata": {},
     "output_type": "display_data"
    },
    {
     "data": {
      "text/plain": [
       "'df_last'"
      ]
     },
     "metadata": {},
     "output_type": "display_data"
    },
    {
     "data": {
      "text/html": [
       "<div>\n",
       "<style scoped>\n",
       "    .dataframe tbody tr th:only-of-type {\n",
       "        vertical-align: middle;\n",
       "    }\n",
       "\n",
       "    .dataframe tbody tr th {\n",
       "        vertical-align: top;\n",
       "    }\n",
       "\n",
       "    .dataframe thead th {\n",
       "        text-align: right;\n",
       "    }\n",
       "</style>\n",
       "<table border=\"1\" class=\"dataframe\">\n",
       "  <thead>\n",
       "    <tr style=\"text-align: right;\">\n",
       "      <th></th>\n",
       "      <th>id</th>\n",
       "      <th>id_comp</th>\n",
       "      <th>dt</th>\n",
       "      <th>grp</th>\n",
       "    </tr>\n",
       "  </thead>\n",
       "  <tbody>\n",
       "    <tr>\n",
       "      <th>0</th>\n",
       "      <td>k1</td>\n",
       "      <td>1</td>\n",
       "      <td>1</td>\n",
       "      <td>A</td>\n",
       "    </tr>\n",
       "    <tr>\n",
       "      <th>9</th>\n",
       "      <td>k1</td>\n",
       "      <td>2</td>\n",
       "      <td>10</td>\n",
       "      <td>D</td>\n",
       "    </tr>\n",
       "    <tr>\n",
       "      <th>3</th>\n",
       "      <td>k1</td>\n",
       "      <td>3</td>\n",
       "      <td>4</td>\n",
       "      <td>A</td>\n",
       "    </tr>\n",
       "    <tr>\n",
       "      <th>6</th>\n",
       "      <td>k1</td>\n",
       "      <td>5</td>\n",
       "      <td>7</td>\n",
       "      <td>A</td>\n",
       "    </tr>\n",
       "  </tbody>\n",
       "</table>\n",
       "</div>"
      ],
      "text/plain": [
       "   id  id_comp  dt grp\n",
       "0  k1        1   1   A\n",
       "9  k1        2  10   D\n",
       "3  k1        3   4   A\n",
       "6  k1        5   7   A"
      ]
     },
     "metadata": {},
     "output_type": "display_data"
    },
    {
     "data": {
      "text/plain": [
       "'df_last'"
      ]
     },
     "metadata": {},
     "output_type": "display_data"
    },
    {
     "data": {
      "text/html": [
       "<div>\n",
       "<style scoped>\n",
       "    .dataframe tbody tr th:only-of-type {\n",
       "        vertical-align: middle;\n",
       "    }\n",
       "\n",
       "    .dataframe tbody tr th {\n",
       "        vertical-align: top;\n",
       "    }\n",
       "\n",
       "    .dataframe thead th {\n",
       "        text-align: right;\n",
       "    }\n",
       "</style>\n",
       "<table border=\"1\" class=\"dataframe\">\n",
       "  <thead>\n",
       "    <tr style=\"text-align: right;\">\n",
       "      <th></th>\n",
       "      <th>id</th>\n",
       "      <th>id_comp</th>\n",
       "      <th>dt</th>\n",
       "      <th>grp</th>\n",
       "    </tr>\n",
       "  </thead>\n",
       "  <tbody>\n",
       "    <tr>\n",
       "      <th>1</th>\n",
       "      <td>k2</td>\n",
       "      <td>1</td>\n",
       "      <td>2</td>\n",
       "      <td>A</td>\n",
       "    </tr>\n",
       "    <tr>\n",
       "      <th>7</th>\n",
       "      <td>k2</td>\n",
       "      <td>3</td>\n",
       "      <td>8</td>\n",
       "      <td>B</td>\n",
       "    </tr>\n",
       "  </tbody>\n",
       "</table>\n",
       "</div>"
      ],
      "text/plain": [
       "   id  id_comp  dt grp\n",
       "1  k2        1   2   A\n",
       "7  k2        3   8   B"
      ]
     },
     "metadata": {},
     "output_type": "display_data"
    },
    {
     "data": {
      "text/plain": [
       "'df_last'"
      ]
     },
     "metadata": {},
     "output_type": "display_data"
    },
    {
     "data": {
      "text/html": [
       "<div>\n",
       "<style scoped>\n",
       "    .dataframe tbody tr th:only-of-type {\n",
       "        vertical-align: middle;\n",
       "    }\n",
       "\n",
       "    .dataframe tbody tr th {\n",
       "        vertical-align: top;\n",
       "    }\n",
       "\n",
       "    .dataframe thead th {\n",
       "        text-align: right;\n",
       "    }\n",
       "</style>\n",
       "<table border=\"1\" class=\"dataframe\">\n",
       "  <thead>\n",
       "    <tr style=\"text-align: right;\">\n",
       "      <th></th>\n",
       "      <th>id</th>\n",
       "      <th>id_comp</th>\n",
       "      <th>dt</th>\n",
       "      <th>grp</th>\n",
       "    </tr>\n",
       "  </thead>\n",
       "  <tbody>\n",
       "    <tr>\n",
       "      <th>8</th>\n",
       "      <td>k3</td>\n",
       "      <td>1</td>\n",
       "      <td>9</td>\n",
       "      <td>A</td>\n",
       "    </tr>\n",
       "    <tr>\n",
       "      <th>2</th>\n",
       "      <td>k3</td>\n",
       "      <td>2</td>\n",
       "      <td>3</td>\n",
       "      <td>B</td>\n",
       "    </tr>\n",
       "  </tbody>\n",
       "</table>\n",
       "</div>"
      ],
      "text/plain": [
       "   id  id_comp  dt grp\n",
       "8  k3        1   9   A\n",
       "2  k3        2   3   B"
      ]
     },
     "metadata": {},
     "output_type": "display_data"
    },
    {
     "data": {
      "text/plain": [
       "'df_last'"
      ]
     },
     "metadata": {},
     "output_type": "display_data"
    },
    {
     "data": {
      "text/html": [
       "<div>\n",
       "<style scoped>\n",
       "    .dataframe tbody tr th:only-of-type {\n",
       "        vertical-align: middle;\n",
       "    }\n",
       "\n",
       "    .dataframe tbody tr th {\n",
       "        vertical-align: top;\n",
       "    }\n",
       "\n",
       "    .dataframe thead th {\n",
       "        text-align: right;\n",
       "    }\n",
       "</style>\n",
       "<table border=\"1\" class=\"dataframe\">\n",
       "  <thead>\n",
       "    <tr style=\"text-align: right;\">\n",
       "      <th></th>\n",
       "      <th>id</th>\n",
       "      <th>id_comp</th>\n",
       "      <th>dt</th>\n",
       "      <th>grp</th>\n",
       "    </tr>\n",
       "  </thead>\n",
       "  <tbody>\n",
       "    <tr>\n",
       "      <th>4</th>\n",
       "      <td>k5</td>\n",
       "      <td>1</td>\n",
       "      <td>5</td>\n",
       "      <td>D</td>\n",
       "    </tr>\n",
       "  </tbody>\n",
       "</table>\n",
       "</div>"
      ],
      "text/plain": [
       "   id  id_comp  dt grp\n",
       "4  k5        1   5   D"
      ]
     },
     "metadata": {},
     "output_type": "display_data"
    },
    {
     "data": {
      "text/html": [
       "<div>\n",
       "<style scoped>\n",
       "    .dataframe tbody tr th:only-of-type {\n",
       "        vertical-align: middle;\n",
       "    }\n",
       "\n",
       "    .dataframe tbody tr th {\n",
       "        vertical-align: top;\n",
       "    }\n",
       "\n",
       "    .dataframe thead th {\n",
       "        text-align: right;\n",
       "    }\n",
       "</style>\n",
       "<table border=\"1\" class=\"dataframe\">\n",
       "  <thead>\n",
       "    <tr style=\"text-align: right;\">\n",
       "      <th></th>\n",
       "      <th>cnt</th>\n",
       "    </tr>\n",
       "    <tr>\n",
       "      <th>id</th>\n",
       "      <th></th>\n",
       "    </tr>\n",
       "  </thead>\n",
       "  <tbody>\n",
       "    <tr>\n",
       "      <th>k1</th>\n",
       "      <td>4</td>\n",
       "    </tr>\n",
       "    <tr>\n",
       "      <th>k2</th>\n",
       "      <td>1</td>\n",
       "    </tr>\n",
       "    <tr>\n",
       "      <th>k3</th>\n",
       "      <td>1</td>\n",
       "    </tr>\n",
       "    <tr>\n",
       "      <th>k5</th>\n",
       "      <td>0</td>\n",
       "    </tr>\n",
       "  </tbody>\n",
       "</table>\n",
       "</div>"
      ],
      "text/plain": [
       "    cnt\n",
       "id     \n",
       "k1    4\n",
       "k2    1\n",
       "k3    1\n",
       "k5    0"
      ]
     },
     "metadata": {},
     "output_type": "display_data"
    },
    {
     "data": {
      "text/plain": [
       "'df_last'"
      ]
     },
     "metadata": {},
     "output_type": "display_data"
    },
    {
     "data": {
      "text/html": [
       "<div>\n",
       "<style scoped>\n",
       "    .dataframe tbody tr th:only-of-type {\n",
       "        vertical-align: middle;\n",
       "    }\n",
       "\n",
       "    .dataframe tbody tr th {\n",
       "        vertical-align: top;\n",
       "    }\n",
       "\n",
       "    .dataframe thead th {\n",
       "        text-align: right;\n",
       "    }\n",
       "</style>\n",
       "<table border=\"1\" class=\"dataframe\">\n",
       "  <thead>\n",
       "    <tr style=\"text-align: right;\">\n",
       "      <th></th>\n",
       "      <th>id</th>\n",
       "      <th>id_comp</th>\n",
       "      <th>dt</th>\n",
       "      <th>grp</th>\n",
       "    </tr>\n",
       "  </thead>\n",
       "  <tbody>\n",
       "    <tr>\n",
       "      <th>0</th>\n",
       "      <td>k1</td>\n",
       "      <td>1</td>\n",
       "      <td>1</td>\n",
       "      <td>A</td>\n",
       "    </tr>\n",
       "    <tr>\n",
       "      <th>9</th>\n",
       "      <td>k1</td>\n",
       "      <td>2</td>\n",
       "      <td>10</td>\n",
       "      <td>D</td>\n",
       "    </tr>\n",
       "    <tr>\n",
       "      <th>3</th>\n",
       "      <td>k1</td>\n",
       "      <td>3</td>\n",
       "      <td>4</td>\n",
       "      <td>A</td>\n",
       "    </tr>\n",
       "    <tr>\n",
       "      <th>6</th>\n",
       "      <td>k1</td>\n",
       "      <td>5</td>\n",
       "      <td>7</td>\n",
       "      <td>A</td>\n",
       "    </tr>\n",
       "  </tbody>\n",
       "</table>\n",
       "</div>"
      ],
      "text/plain": [
       "   id  id_comp  dt grp\n",
       "0  k1        1   1   A\n",
       "9  k1        2  10   D\n",
       "3  k1        3   4   A\n",
       "6  k1        5   7   A"
      ]
     },
     "metadata": {},
     "output_type": "display_data"
    },
    {
     "data": {
      "text/plain": [
       "'df_last'"
      ]
     },
     "metadata": {},
     "output_type": "display_data"
    },
    {
     "data": {
      "text/html": [
       "<div>\n",
       "<style scoped>\n",
       "    .dataframe tbody tr th:only-of-type {\n",
       "        vertical-align: middle;\n",
       "    }\n",
       "\n",
       "    .dataframe tbody tr th {\n",
       "        vertical-align: top;\n",
       "    }\n",
       "\n",
       "    .dataframe thead th {\n",
       "        text-align: right;\n",
       "    }\n",
       "</style>\n",
       "<table border=\"1\" class=\"dataframe\">\n",
       "  <thead>\n",
       "    <tr style=\"text-align: right;\">\n",
       "      <th></th>\n",
       "      <th>id</th>\n",
       "      <th>id_comp</th>\n",
       "      <th>dt</th>\n",
       "      <th>grp</th>\n",
       "    </tr>\n",
       "  </thead>\n",
       "  <tbody>\n",
       "    <tr>\n",
       "      <th>1</th>\n",
       "      <td>k2</td>\n",
       "      <td>1</td>\n",
       "      <td>2</td>\n",
       "      <td>A</td>\n",
       "    </tr>\n",
       "    <tr>\n",
       "      <th>7</th>\n",
       "      <td>k2</td>\n",
       "      <td>3</td>\n",
       "      <td>8</td>\n",
       "      <td>B</td>\n",
       "    </tr>\n",
       "  </tbody>\n",
       "</table>\n",
       "</div>"
      ],
      "text/plain": [
       "   id  id_comp  dt grp\n",
       "1  k2        1   2   A\n",
       "7  k2        3   8   B"
      ]
     },
     "metadata": {},
     "output_type": "display_data"
    },
    {
     "data": {
      "text/plain": [
       "'df_last'"
      ]
     },
     "metadata": {},
     "output_type": "display_data"
    },
    {
     "data": {
      "text/html": [
       "<div>\n",
       "<style scoped>\n",
       "    .dataframe tbody tr th:only-of-type {\n",
       "        vertical-align: middle;\n",
       "    }\n",
       "\n",
       "    .dataframe tbody tr th {\n",
       "        vertical-align: top;\n",
       "    }\n",
       "\n",
       "    .dataframe thead th {\n",
       "        text-align: right;\n",
       "    }\n",
       "</style>\n",
       "<table border=\"1\" class=\"dataframe\">\n",
       "  <thead>\n",
       "    <tr style=\"text-align: right;\">\n",
       "      <th></th>\n",
       "      <th>id</th>\n",
       "      <th>id_comp</th>\n",
       "      <th>dt</th>\n",
       "      <th>grp</th>\n",
       "    </tr>\n",
       "  </thead>\n",
       "  <tbody>\n",
       "    <tr>\n",
       "      <th>8</th>\n",
       "      <td>k3</td>\n",
       "      <td>1</td>\n",
       "      <td>9</td>\n",
       "      <td>A</td>\n",
       "    </tr>\n",
       "    <tr>\n",
       "      <th>2</th>\n",
       "      <td>k3</td>\n",
       "      <td>2</td>\n",
       "      <td>3</td>\n",
       "      <td>B</td>\n",
       "    </tr>\n",
       "  </tbody>\n",
       "</table>\n",
       "</div>"
      ],
      "text/plain": [
       "   id  id_comp  dt grp\n",
       "8  k3        1   9   A\n",
       "2  k3        2   3   B"
      ]
     },
     "metadata": {},
     "output_type": "display_data"
    },
    {
     "data": {
      "text/plain": [
       "'df_last'"
      ]
     },
     "metadata": {},
     "output_type": "display_data"
    },
    {
     "data": {
      "text/html": [
       "<div>\n",
       "<style scoped>\n",
       "    .dataframe tbody tr th:only-of-type {\n",
       "        vertical-align: middle;\n",
       "    }\n",
       "\n",
       "    .dataframe tbody tr th {\n",
       "        vertical-align: top;\n",
       "    }\n",
       "\n",
       "    .dataframe thead th {\n",
       "        text-align: right;\n",
       "    }\n",
       "</style>\n",
       "<table border=\"1\" class=\"dataframe\">\n",
       "  <thead>\n",
       "    <tr style=\"text-align: right;\">\n",
       "      <th></th>\n",
       "      <th>id</th>\n",
       "      <th>id_comp</th>\n",
       "      <th>dt</th>\n",
       "      <th>grp</th>\n",
       "    </tr>\n",
       "  </thead>\n",
       "  <tbody>\n",
       "    <tr>\n",
       "      <th>4</th>\n",
       "      <td>k5</td>\n",
       "      <td>1</td>\n",
       "      <td>5</td>\n",
       "      <td>D</td>\n",
       "    </tr>\n",
       "  </tbody>\n",
       "</table>\n",
       "</div>"
      ],
      "text/plain": [
       "   id  id_comp  dt grp\n",
       "4  k5        1   5   D"
      ]
     },
     "metadata": {},
     "output_type": "display_data"
    },
    {
     "data": {
      "text/html": [
       "<div>\n",
       "<style scoped>\n",
       "    .dataframe tbody tr th:only-of-type {\n",
       "        vertical-align: middle;\n",
       "    }\n",
       "\n",
       "    .dataframe tbody tr th {\n",
       "        vertical-align: top;\n",
       "    }\n",
       "\n",
       "    .dataframe thead th {\n",
       "        text-align: right;\n",
       "    }\n",
       "</style>\n",
       "<table border=\"1\" class=\"dataframe\">\n",
       "  <thead>\n",
       "    <tr style=\"text-align: right;\">\n",
       "      <th></th>\n",
       "      <th>cnt</th>\n",
       "    </tr>\n",
       "    <tr>\n",
       "      <th>id</th>\n",
       "      <th></th>\n",
       "    </tr>\n",
       "  </thead>\n",
       "  <tbody>\n",
       "    <tr>\n",
       "      <th>k1</th>\n",
       "      <td>4</td>\n",
       "    </tr>\n",
       "    <tr>\n",
       "      <th>k2</th>\n",
       "      <td>1</td>\n",
       "    </tr>\n",
       "    <tr>\n",
       "      <th>k3</th>\n",
       "      <td>1</td>\n",
       "    </tr>\n",
       "    <tr>\n",
       "      <th>k5</th>\n",
       "      <td>0</td>\n",
       "    </tr>\n",
       "  </tbody>\n",
       "</table>\n",
       "</div>"
      ],
      "text/plain": [
       "    cnt\n",
       "id     \n",
       "k1    4\n",
       "k2    1\n",
       "k3    1\n",
       "k5    0"
      ]
     },
     "metadata": {},
     "output_type": "display_data"
    }
   ],
   "source": [
    "def deri_vars(df, method=1):\n",
    "    if method == 1:\n",
    "        df.sort_values(by=[\"id_comp\", \"dt\"], ascending=[True, False], inplace=True)\n",
    "        df_last = df.drop_duplicates(subset=[\"id_comp\"], keep=\"first\")\n",
    "    else:\n",
    "        df_tmp = df.sort_values(by=[\"id_comp\", \"dt\"], ascending=[True, False])\n",
    "        df_last= df_tmp.drop_duplicates(subset=[\"id_comp\"], keep=\"first\")\n",
    "    \n",
    "    display(\"df_last\")\n",
    "    display(df_last)    \n",
    "    cnt = df[df[\"grp\"]==\"A\"].shape[0]\n",
    "    \n",
    "    return pd.Series({\"cnt\":cnt})\n",
    "#     return pd.DataFrame({\"cnt\":[cnt]})\n",
    "\n",
    "\n",
    "df = pd.DataFrame({\n",
    "    \"id\":[\"k1\", \"k2\", \"k3\", \"k1\", \"k5\", \"k1\", \"k1\", \"k2\", \"k3\", \"k1\"]\n",
    "    , \"id_comp\":[1, 1, 2, 3, 1, 2, 5, 3, 1, 2]\n",
    "    , \"dt\":[1, 2, 3, 4, 5, 6, 7, 8, 9, 10]\n",
    "    , \"grp\":[\"A\", \"A\", \"B\", \"A\", \"D\", \"A\", \"A\", \"B\", \"A\", \"D\"]\n",
    "})\n",
    "\n",
    "display(df)\n",
    "\n",
    "display(df.groupby(\"id\").apply(deri_vars, method=(1,)))\n",
    "display(df.groupby(\"id\").apply(deri_vars, method=(2,)))\n"
   ]
  },
  {
   "cell_type": "markdown",
   "metadata": {
    "ExecuteTime": {
     "end_time": "2021-10-28T09:23:55.443753Z",
     "start_time": "2021-10-28T09:23:55.439762Z"
    }
   },
   "source": [
    "## df.groupby().apply() 返回的数据全部一样\n",
    "\n",
    "1. pandas groupby 执行原理\n",
    "2. groupby.apply调用的函数func里面，不能对df再做排序等，不然会结果错乱【如果排序了，输出的结果都一致】\n",
    "> 解决办法：groupby之后的函数体内，需要对传入的df做深拷贝，然后在深拷贝的数据集上做处理\n",
    "\n",
    "\n",
    "> [Pandas 数据分析——超好用的 Groupby 详解](https://learnku.com/articles/39735) E:\\notebooks\\2.python\\0. 资料\\Error\n",
    "\n",
    "id    name  math class\n",
    "0    1   name1    78     A\n",
    "1    2   name2    88     A\n",
    "2    3   name3    76     A\n",
    "3    4   name4    97     A\n",
    "4    5   name5    94     A\n",
    "5    6   name6    89     A\n",
    "6    7   name7    56     B\n",
    "7    8   name8    86     B\n",
    "8    9   name9    90     B\n",
    "9   10  name10    98     B\n",
    "10  11  name11    83     B\n",
    "11  12  name12    89     B\n",
    "12  13  name13    78     B\n",
    "13  14  name14    80     C\n",
    "14  15  name15    99     C\n",
    "15  16  name16   100     C\n",
    "16  17  name17    94     C\n",
    "17  18  name18    76     C\n",
    "18  21  name19    85     C\n",
    "19  22  name20    96     C\n",
    "20  23  name21    83     C"
   ]
  },
  {
   "cell_type": "code",
   "execution_count": 14,
   "metadata": {
    "ExecuteTime": {
     "end_time": "2021-10-29T04:19:31.100599Z",
     "start_time": "2021-10-29T04:19:31.078042Z"
    }
   },
   "outputs": [
    {
     "data": {
      "text/html": [
       "<div>\n",
       "<style scoped>\n",
       "    .dataframe tbody tr th:only-of-type {\n",
       "        vertical-align: middle;\n",
       "    }\n",
       "\n",
       "    .dataframe tbody tr th {\n",
       "        vertical-align: top;\n",
       "    }\n",
       "\n",
       "    .dataframe thead th {\n",
       "        text-align: right;\n",
       "    }\n",
       "</style>\n",
       "<table border=\"1\" class=\"dataframe\">\n",
       "  <thead>\n",
       "    <tr style=\"text-align: right;\">\n",
       "      <th></th>\n",
       "      <th>id</th>\n",
       "      <th>name</th>\n",
       "      <th>math</th>\n",
       "      <th>class</th>\n",
       "    </tr>\n",
       "  </thead>\n",
       "  <tbody>\n",
       "    <tr>\n",
       "      <th>11</th>\n",
       "      <td>12</td>\n",
       "      <td>name7</td>\n",
       "      <td>99</td>\n",
       "      <td>A</td>\n",
       "    </tr>\n",
       "    <tr>\n",
       "      <th>12</th>\n",
       "      <td>13</td>\n",
       "      <td>name8</td>\n",
       "      <td>97</td>\n",
       "      <td>A</td>\n",
       "    </tr>\n",
       "    <tr>\n",
       "      <th>16</th>\n",
       "      <td>17</td>\n",
       "      <td>name8</td>\n",
       "      <td>97</td>\n",
       "      <td>A</td>\n",
       "    </tr>\n",
       "    <tr>\n",
       "      <th>0</th>\n",
       "      <td>1</td>\n",
       "      <td>name8</td>\n",
       "      <td>97</td>\n",
       "      <td>A</td>\n",
       "    </tr>\n",
       "    <tr>\n",
       "      <th>8</th>\n",
       "      <td>9</td>\n",
       "      <td>name2</td>\n",
       "      <td>93</td>\n",
       "      <td>A</td>\n",
       "    </tr>\n",
       "  </tbody>\n",
       "</table>\n",
       "</div>"
      ],
      "text/plain": [
       "    id   name  math class\n",
       "11  12  name7    99     A\n",
       "12  13  name8    97     A\n",
       "16  17  name8    97     A\n",
       "0    1  name8    97     A\n",
       "8    9  name2    93     A"
      ]
     },
     "execution_count": 14,
     "metadata": {},
     "output_type": "execute_result"
    }
   ],
   "source": [
    "import pandas as pd\n",
    "from random import randint\n",
    "\n",
    "df = pd.DataFrame({\n",
    "    \"id\":list(range(1, 24))\n",
    "    , \"name\":[\"name%d\" %randint(1, 10) for i in range(1, 24)]\n",
    "    , \"math\":[randint(60, 100) for i in range(1, 24)]\n",
    "    #, \"class\":[]\n",
    "})\n",
    "df[\"class\"] = df[\"math\"].apply(lambda x:\"A\" if x>90 else \"B\" if x>80 else \"C\")\n",
    "df.sort_values(by=\"math\", ascending=False).head()"
   ]
  },
  {
   "cell_type": "code",
   "execution_count": 36,
   "metadata": {
    "ExecuteTime": {
     "end_time": "2021-10-29T07:06:16.291263Z",
     "start_time": "2021-10-29T07:06:16.272324Z"
    }
   },
   "outputs": [],
   "source": [
    "def func_sum(df_sub, dict_params):\n",
    "    \"\"\"\n",
    "        和这里有关系，进来之后，不能做任何的操作\n",
    "    \"\"\"\n",
    "#     df_sub.sort_values(by=\"name\", inplace=True) \n",
    "    \n",
    "    dict_return = {}\n",
    "    \n",
    "    cnt_a = df_sub[df_sub[\"class\"]==\"A\"].shape[0]\n",
    "    cnt_b = df_sub[df_sub[\"class\"]==\"B\"].shape[0]\n",
    "    \n",
    "    dict_return[\"cnt_a\"] = cnt_a\n",
    "    dict_return[\"cnt_b\"] = cnt_b\n",
    "    dict_return[\"name_grp\"] = df_sub[\"name\"].to_list()[0]\n",
    "    \n",
    "    \n",
    "    return pd.Series(dict_return)\n",
    "\n",
    "\n",
    "def func_sort(df):\n",
    "    df.sort_values(by=\"name\", inplace=True) # 排序会致使出错\n",
    "    print(df)\n",
    "\n",
    "def func_sort2(df):\n",
    "#     df.sort_values(by=\"name\", inplace=True)\n",
    "    print(df)\n",
    "    \n",
    "def func_sort3(df):\n",
    "    df_sub = df.copy(deep=True)\n",
    "    df_sub.sort_values(by=\"name\", inplace=True)\n",
    "    print(df_sub)"
   ]
  },
  {
   "cell_type": "code",
   "execution_count": 25,
   "metadata": {
    "ExecuteTime": {
     "end_time": "2021-10-29T04:24:33.530767Z",
     "start_time": "2021-10-29T04:24:33.498884Z"
    }
   },
   "outputs": [
    {
     "data": {
      "text/html": [
       "<div>\n",
       "<style scoped>\n",
       "    .dataframe tbody tr th:only-of-type {\n",
       "        vertical-align: middle;\n",
       "    }\n",
       "\n",
       "    .dataframe tbody tr th {\n",
       "        vertical-align: top;\n",
       "    }\n",
       "\n",
       "    .dataframe thead th {\n",
       "        text-align: right;\n",
       "    }\n",
       "</style>\n",
       "<table border=\"1\" class=\"dataframe\">\n",
       "  <thead>\n",
       "    <tr style=\"text-align: right;\">\n",
       "      <th></th>\n",
       "      <th>name</th>\n",
       "      <th>cnt_a</th>\n",
       "      <th>cnt_b</th>\n",
       "      <th>name_grp</th>\n",
       "    </tr>\n",
       "  </thead>\n",
       "  <tbody>\n",
       "    <tr>\n",
       "      <th>0</th>\n",
       "      <td>name1</td>\n",
       "      <td>0</td>\n",
       "      <td>0</td>\n",
       "      <td>name1</td>\n",
       "    </tr>\n",
       "    <tr>\n",
       "      <th>1</th>\n",
       "      <td>name10</td>\n",
       "      <td>0</td>\n",
       "      <td>0</td>\n",
       "      <td>name10</td>\n",
       "    </tr>\n",
       "    <tr>\n",
       "      <th>2</th>\n",
       "      <td>name2</td>\n",
       "      <td>1</td>\n",
       "      <td>0</td>\n",
       "      <td>name2</td>\n",
       "    </tr>\n",
       "    <tr>\n",
       "      <th>3</th>\n",
       "      <td>name4</td>\n",
       "      <td>0</td>\n",
       "      <td>1</td>\n",
       "      <td>name4</td>\n",
       "    </tr>\n",
       "    <tr>\n",
       "      <th>4</th>\n",
       "      <td>name5</td>\n",
       "      <td>0</td>\n",
       "      <td>0</td>\n",
       "      <td>name5</td>\n",
       "    </tr>\n",
       "    <tr>\n",
       "      <th>5</th>\n",
       "      <td>name6</td>\n",
       "      <td>0</td>\n",
       "      <td>0</td>\n",
       "      <td>name6</td>\n",
       "    </tr>\n",
       "    <tr>\n",
       "      <th>6</th>\n",
       "      <td>name7</td>\n",
       "      <td>1</td>\n",
       "      <td>0</td>\n",
       "      <td>name7</td>\n",
       "    </tr>\n",
       "    <tr>\n",
       "      <th>7</th>\n",
       "      <td>name8</td>\n",
       "      <td>3</td>\n",
       "      <td>1</td>\n",
       "      <td>name8</td>\n",
       "    </tr>\n",
       "    <tr>\n",
       "      <th>8</th>\n",
       "      <td>name9</td>\n",
       "      <td>0</td>\n",
       "      <td>0</td>\n",
       "      <td>name9</td>\n",
       "    </tr>\n",
       "  </tbody>\n",
       "</table>\n",
       "</div>"
      ],
      "text/plain": [
       "     name  cnt_a  cnt_b name_grp\n",
       "0   name1      0      0    name1\n",
       "1  name10      0      0   name10\n",
       "2   name2      1      0    name2\n",
       "3   name4      0      1    name4\n",
       "4   name5      0      0    name5\n",
       "5   name6      0      0    name6\n",
       "6   name7      1      0    name7\n",
       "7   name8      3      1    name8\n",
       "8   name9      0      0    name9"
      ]
     },
     "execution_count": 25,
     "metadata": {},
     "output_type": "execute_result"
    }
   ],
   "source": [
    "stat_res = df.groupby(\"name\", as_index=None).apply(func_sum, dict_params={\"shift_value\":1})\n",
    "stat_res"
   ]
  },
  {
   "cell_type": "code",
   "execution_count": 29,
   "metadata": {
    "ExecuteTime": {
     "end_time": "2021-10-29T07:03:28.884606Z",
     "start_time": "2021-10-29T07:03:28.847379Z"
    }
   },
   "outputs": [
    {
     "name": "stdout",
     "output_type": "stream",
     "text": [
      "    id   name  math class\n",
      "1    2  name1    79     C\n",
      "13  14  name1    71     C\n",
      "18  19  name1    74     C\n",
      "    id   name  math class\n",
      "1    2  name1    79     C\n",
      "13  14  name1    71     C\n",
      "18  19  name1    74     C\n",
      "    id   name  math class\n",
      "1    2  name1    79     C\n",
      "13  14  name1    71     C\n",
      "18  19  name1    74     C\n",
      "    id   name  math class\n",
      "1    2  name1    79     C\n",
      "13  14  name1    71     C\n",
      "18  19  name1    74     C\n",
      "    id   name  math class\n",
      "1    2  name1    79     C\n",
      "13  14  name1    71     C\n",
      "18  19  name1    74     C\n",
      "    id   name  math class\n",
      "1    2  name1    79     C\n",
      "13  14  name1    71     C\n",
      "18  19  name1    74     C\n",
      "    id   name  math class\n",
      "1    2  name1    79     C\n",
      "13  14  name1    71     C\n",
      "18  19  name1    74     C\n",
      "    id   name  math class\n",
      "1    2  name1    79     C\n",
      "13  14  name1    71     C\n",
      "18  19  name1    74     C\n",
      "    id   name  math class\n",
      "1    2  name1    79     C\n",
      "13  14  name1    71     C\n",
      "18  19  name1    74     C\n"
     ]
    },
    {
     "data": {
      "text/html": [
       "<div>\n",
       "<style scoped>\n",
       "    .dataframe tbody tr th:only-of-type {\n",
       "        vertical-align: middle;\n",
       "    }\n",
       "\n",
       "    .dataframe tbody tr th {\n",
       "        vertical-align: top;\n",
       "    }\n",
       "\n",
       "    .dataframe thead th {\n",
       "        text-align: right;\n",
       "    }\n",
       "</style>\n",
       "<table border=\"1\" class=\"dataframe\">\n",
       "  <thead>\n",
       "    <tr style=\"text-align: right;\">\n",
       "      <th></th>\n",
       "    </tr>\n",
       "  </thead>\n",
       "  <tbody>\n",
       "  </tbody>\n",
       "</table>\n",
       "</div>"
      ],
      "text/plain": [
       "Empty DataFrame\n",
       "Columns: []\n",
       "Index: []"
      ]
     },
     "execution_count": 29,
     "metadata": {},
     "output_type": "execute_result"
    }
   ],
   "source": [
    "stat_res = df.groupby(\"name\", as_index=None).apply(func_sort)\n",
    "stat_res"
   ]
  },
  {
   "cell_type": "code",
   "execution_count": 31,
   "metadata": {
    "ExecuteTime": {
     "end_time": "2021-10-29T07:04:19.954011Z",
     "start_time": "2021-10-29T07:04:19.930076Z"
    }
   },
   "outputs": [
    {
     "name": "stdout",
     "output_type": "stream",
     "text": [
      "    id   name  math class\n",
      "1    2  name1    79     C\n",
      "13  14  name1    71     C\n",
      "18  19  name1    74     C\n",
      "    id    name  math class\n",
      "19  20  name10    68     C\n",
      "20  21  name10    80     C\n",
      "   id   name  math class\n",
      "8   9  name2    93     A\n",
      "   id   name  math class\n",
      "6   7  name4    87     B\n",
      "    id   name  math class\n",
      "10  11  name5    73     C\n",
      "    id   name  math class\n",
      "3    4  name6    67     C\n",
      "17  18  name6    62     C\n",
      "    id   name  math class\n",
      "5    6  name7    73     C\n",
      "11  12  name7    99     A\n",
      "    id   name  math class\n",
      "0    1  name8    97     A\n",
      "2    3  name8    61     C\n",
      "4    5  name8    82     B\n",
      "7    8  name8    65     C\n",
      "9   10  name8    68     C\n",
      "12  13  name8    97     A\n",
      "16  17  name8    97     A\n",
      "    id   name  math class\n",
      "14  15  name9    67     C\n",
      "15  16  name9    79     C\n",
      "21  22  name9    79     C\n",
      "22  23  name9    71     C\n"
     ]
    }
   ],
   "source": [
    "stat_res = df.groupby(\"name\", as_index=None).apply(func_sort2)"
   ]
  },
  {
   "cell_type": "code",
   "execution_count": 37,
   "metadata": {
    "ExecuteTime": {
     "end_time": "2021-10-29T07:06:20.463185Z",
     "start_time": "2021-10-29T07:06:20.431266Z"
    }
   },
   "outputs": [
    {
     "name": "stdout",
     "output_type": "stream",
     "text": [
      "    id   name  math class\n",
      "1    2  name1    79     C\n",
      "13  14  name1    71     C\n",
      "18  19  name1    74     C\n",
      "    id    name  math class\n",
      "19  20  name10    68     C\n",
      "20  21  name10    80     C\n",
      "   id   name  math class\n",
      "8   9  name2    93     A\n",
      "   id   name  math class\n",
      "6   7  name4    87     B\n",
      "    id   name  math class\n",
      "10  11  name5    73     C\n",
      "    id   name  math class\n",
      "3    4  name6    67     C\n",
      "17  18  name6    62     C\n",
      "    id   name  math class\n",
      "5    6  name7    73     C\n",
      "11  12  name7    99     A\n",
      "    id   name  math class\n",
      "0    1  name8    97     A\n",
      "2    3  name8    61     C\n",
      "4    5  name8    82     B\n",
      "7    8  name8    65     C\n",
      "9   10  name8    68     C\n",
      "12  13  name8    97     A\n",
      "16  17  name8    97     A\n",
      "    id   name  math class\n",
      "14  15  name9    67     C\n",
      "15  16  name9    79     C\n",
      "21  22  name9    79     C\n",
      "22  23  name9    71     C\n"
     ]
    }
   ],
   "source": [
    "stat_res = df.groupby(\"name\", as_index=None).apply(func_sort3)"
   ]
  }
 ],
 "metadata": {
  "kernelspec": {
   "display_name": "Python 3",
   "language": "python",
   "name": "python3"
  },
  "language_info": {
   "codemirror_mode": {
    "name": "ipython",
    "version": 3
   },
   "file_extension": ".py",
   "mimetype": "text/x-python",
   "name": "python",
   "nbconvert_exporter": "python",
   "pygments_lexer": "ipython3",
   "version": "3.7.4"
  },
  "toc": {
   "base_numbering": 1,
   "nav_menu": {},
   "number_sections": true,
   "sideBar": true,
   "skip_h1_title": false,
   "title_cell": "Table of Contents",
   "title_sidebar": "Contents",
   "toc_cell": false,
   "toc_position": {
    "height": "calc(100% - 180px)",
    "left": "10px",
    "top": "150px",
    "width": "284.438px"
   },
   "toc_section_display": true,
   "toc_window_display": true
  },
  "varInspector": {
   "cols": {
    "lenName": 16,
    "lenType": 16,
    "lenVar": 40
   },
   "kernels_config": {
    "python": {
     "delete_cmd_postfix": "",
     "delete_cmd_prefix": "del ",
     "library": "var_list.py",
     "varRefreshCmd": "print(var_dic_list())"
    },
    "r": {
     "delete_cmd_postfix": ") ",
     "delete_cmd_prefix": "rm(",
     "library": "var_list.r",
     "varRefreshCmd": "cat(var_dic_list()) "
    }
   },
   "types_to_exclude": [
    "module",
    "function",
    "builtin_function_or_method",
    "instance",
    "_Feature"
   ],
   "window_display": false
  }
 },
 "nbformat": 4,
 "nbformat_minor": 2
}
