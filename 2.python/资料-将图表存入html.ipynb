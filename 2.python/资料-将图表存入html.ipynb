{
 "cells": [
  {
   "cell_type": "code",
   "execution_count": 3,
   "metadata": {},
   "outputs": [
    {
     "data": {
      "text/plain": [
       "True"
      ]
     },
     "execution_count": 3,
     "metadata": {},
     "output_type": "execute_result"
    },
    {
     "data": {
      "image/png": "[encoded data removed]",
      "text/plain": [
       "<Figure size 432x288 with 4 Axes>"
      ]
     },
     "metadata": {
      "needs_background": "light"
     },
     "output_type": "display_data"
    }
   ],
   "source": [
    "# 控制显示格式，将某些模块显示到同一行\n",
    "\n",
    "# 导入所需模块\n",
    "import pandas as pd\n",
    "import matplotlib.pyplot as plt\n",
    "from io import BytesIO\n",
    "from lxml import etree\n",
    "import base64\n",
    "import urllib\n",
    "\n",
    "\n",
    "# 获取数据集，用 urllib 库下载 iris 数据集作为示例\n",
    "url = \"http://aima.cs.berkeley.edu/data/iris.csv\"\n",
    "setl = urllib.request.Request(url)\n",
    "iris_p = urllib.request.urlopen(setl)\n",
    "iris = pd.read_csv(iris_p, sep=',',decimal='.',header=None, names=['Sepal_Length','Sepal_Width','Petal_Length','Petal_Width','Species'])\n",
    "\n",
    "# pandas 的 DataFrame 数据直接装换为 html 代码字符串\n",
    "iris_des = \"\"\"<div style=\"float:left\"><h1>Iris Describe Stastic</h1>\"\"\"+iris.describe().T.to_html()+\"</div>\"\n",
    "\n",
    "# matplotlib 任意绘制一张图\n",
    "fig,axes = plt.subplots(1,4,sharey = True)\n",
    "for n in range(4):\n",
    "    axes[n].hist( iris.iloc[:,n],bins = 15,color = 'b',alpha = 0.5,rwidth= 0.8 )\n",
    "    axes[n].set_xlabel(iris.columns[n])\n",
    "plt.subplots_adjust(wspace = 0)\n",
    "# figure 保存为二进制文件\n",
    "buffer = BytesIO()\n",
    "plt.savefig(buffer)  \n",
    "plot_data = buffer.getvalue()\n",
    "\n",
    "# 图像数据转化为 HTML 格式\n",
    "imb = base64.b64encode(plot_data)  \n",
    "#imb = plot_data.encode('base64')   # 对于 Python 2.7可用 \n",
    "ims = imb.decode()\n",
    "imd = \"data:image/png;base64,\"+ims\n",
    "iris_im = \"\"\"<div style=\"float:left\"><h1>Iris Figure</h1>  \"\"\" + \"\"\"<img src=\"%s\"></div>\"\"\" % imd   \n",
    "\n",
    "root = \"<title>Iris Dataset</title>\"\n",
    "root = root + iris_des + iris_im  #将多个 html 格式的字符串连接起来\n",
    "\n",
    "# lxml 库的 etree 解析字符串为 html 代码，并写入文件\n",
    "html = etree.HTML(root)\n",
    "tree = etree.ElementTree(html)\n",
    "tree.write('iris.html')\n",
    "\n",
    "# 最后使用默认浏览器打开 html 文件\n",
    "import webbrowser\n",
    "webbrowser.open('iris.html',new = 1)"
   ]
  },
  {
   "cell_type": "code",
   "execution_count": 4,
   "metadata": {},
   "outputs": [
    {
     "data": {
      "text/plain": [
       "True"
      ]
     },
     "execution_count": 4,
     "metadata": {},
     "output_type": "execute_result"
    },
    {
     "data": {
      "image/png": "[encoded data removed]",
      "text/plain": [
       "<Figure size 432x288 with 4 Axes>"
      ]
     },
     "metadata": {
      "needs_background": "light"
     },
     "output_type": "display_data"
    }
   ],
   "source": [
    "# 导入所需模块\n",
    "import pandas as pd\n",
    "import matplotlib.pyplot as plt\n",
    "from io import BytesIO\n",
    "from lxml import etree\n",
    "import base64\n",
    "import urllib\n",
    "\n",
    "\n",
    "# 获取数据集，用 urllib 库下载 iris 数据集作为示例\n",
    "url = \"http://aima.cs.berkeley.edu/data/iris.csv\"\n",
    "setl = urllib.request.Request(url)\n",
    "iris_p = urllib.request.urlopen(setl)\n",
    "iris = pd.read_csv(iris_p, sep=',',decimal='.',header=None, names=['Sepal_Length','Sepal_Width','Petal_Length','Petal_Width','Species'])\n",
    "\n",
    "# pandas 的 DataFrame 数据直接装换为 html 代码字符串\n",
    "iris_des = \"\"\"<h1>Iris Describe Stastic</h1>\"\"\"+iris.describe().T.to_html()\n",
    "\n",
    "# matplotlib 任意绘制一张图\n",
    "fig,axes = plt.subplots(1,4,sharey = True)\n",
    "for n in range(4):\n",
    "    axes[n].hist( iris.iloc[:,n],bins = 15,color = 'b',alpha = 0.5,rwidth= 0.8 )\n",
    "    axes[n].set_xlabel(iris.columns[n])\n",
    "plt.subplots_adjust(wspace = 0)\n",
    "# figure 保存为二进制文件\n",
    "buffer = BytesIO()\n",
    "plt.savefig(buffer)  \n",
    "plot_data = buffer.getvalue()\n",
    "\n",
    "# 图像数据转化为 HTML 格式\n",
    "imb = base64.b64encode(plot_data)  \n",
    "#imb = plot_data.encode('base64')   # 对于 Python 2.7可用 \n",
    "ims = imb.decode()\n",
    "imd = \"data:image/png;base64,\"+ims\n",
    "iris_im = \"\"\"<h1>Iris Figure</h1>  \"\"\" + \"\"\"<img src=\"%s\">\"\"\" % imd   \n",
    "\n",
    "root = \"<title>Iris Dataset</title>\"\n",
    "root = root + iris_des + iris_im  #将多个 html 格式的字符串连接起来\n",
    "\n",
    "# lxml 库的 etree 解析字符串为 html 代码，并写入文件\n",
    "html = etree.HTML(root)\n",
    "tree = etree.ElementTree(html)\n",
    "tree.write('iris.html')\n",
    "\n",
    "# 最后使用默认浏览器打开 html 文件\n",
    "import webbrowser\n",
    "webbrowser.open('iris.html',new = 1)"
   ]
  },
  {
   "cell_type": "code",
   "execution_count": null,
   "metadata": {},
   "outputs": [],
   "source": []
  }
 ],
 "metadata": {
  "kernelspec": {
   "display_name": "Python 3",
   "language": "python",
   "name": "python3"
  },
  "language_info": {
   "codemirror_mode": {
    "name": "ipython",
    "version": 3
   },
   "file_extension": ".py",
   "mimetype": "text/x-python",
   "name": "python",
   "nbconvert_exporter": "python",
   "pygments_lexer": "ipython3",
   "version": "3.7.4"
  }
 },
 "nbformat": 4,
 "nbformat_minor": 2
}
