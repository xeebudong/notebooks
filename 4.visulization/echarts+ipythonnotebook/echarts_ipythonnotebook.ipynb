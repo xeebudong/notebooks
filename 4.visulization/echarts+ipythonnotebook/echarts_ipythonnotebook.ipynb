import pandas as pd
# Database
import pymysql
import pandas as pd

db = pymysql.connect("localhost", "root", "root", "echarts")
sql = "select * from echarts_data"
df = pd.read_sql(sql, db)
df.describe()

# simply stat
groupd = df[['region', 'avg_price', 'dianpin_num']].groupby('region').agg(['mean', 'count'])
from IPython.display import HTML

consume_unknown_restaurant_count = len(df[(df["avg_price"] == -1 )].index)
consume_0_50_restaurant_count = len(df[(df["avg_price"] >= 0 ) & (df["avg_price"] < 50 )].index)
consume_50_100_restaurant_count = len(df[(df["avg_price"] >= 50 ) & (df["avg_price"] < 100 )].index)
consume_100_150_restaurant_count = len(df[(df["avg_price"] >= 100 ) & (df["avg_price"] < 150 )].index)
consume_150_200_restaurant_count = len(df[(df["avg_price"] >= 150 ) & (df["avg_price"] < 200 )].index)
consume_200_greater_restaurant_count = len(df[(df["avg_price"] >= 200 )].index)

# Draw Pic
chart_header_html = """
<div id="chart" style="width:800px; height:600px;"></div>
<script>
    require.config({
         paths:{
            echarts: '//cdn.bootcss.com/echarts/3.2.3/echarts.min',
         }
    });
    require(['echarts'],function(ec){
var myChart = ec.init(document.getElementById('chart'));
                var option = {
                    title: {
                        text: '闵行区美食类人均消费餐馆分布',
                        subtext: '数据来自大众点评',
                        x: 'center'
                    },
                    tooltip: {
                        trigger: 'item',
                        formatter: "{a} <br/>{b} : {c} ({d}%)"
                    },
                    
                    legend: {
                        orient: 'vertical',
                        left: 'left',
                        data: ['人均消费不明','人均消费0~50元', '人均消费50~100元', '人均消费100~150元', '人均消费150~200元', '人均消费200元以上']
                    },
                    series: [
                        {
                            name: '店铺比例',
                            type: 'pie',
                            radius: '55%',
                            center: ['50%', '60%'],
                            data: [


""" 
chart_content_html = """
                                {value: %s, name: '人均消费不明'},
                                {value: %s, name: '人均消费0~50元'},
                                {value: %s, name: '人均消费50~100元'},
                                {value: %s, name: '人均消费100~150元'},
                                {value: %s, name: '人均消费150~200元'},
                                {value: %s, name: '人均消费200元以上'}
""" % (consume_unknown_restaurant_count,consume_0_50_restaurant_count,consume_50_100_restaurant_count,consume_100_150_restaurant_count,consume_150_200_restaurant_count,consume_200_greater_restaurant_count)
chart_footer_html = """
                            ],
                            itemStyle: {
                                emphasis: {
                                    shadowBlur: 10,
                                    shadowOffsetX: 0,
                                    shadowColor: 'rgba(0, 0, 0, 0.5)'
                                }
                            }
                        }
                    ]
                };
                myChart.setOption(option);
    });
</script>
"""
HTML(
 chart_header_html + chart_content_html + chart_footer_html
)